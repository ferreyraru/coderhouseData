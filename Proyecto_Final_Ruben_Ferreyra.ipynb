{
  "nbformat": 4,
  "nbformat_minor": 0,
  "metadata": {
    "colab": {
      "provenance": [],
      "authorship_tag": "ABX9TyP7+IMuQURwMu0oMtXyhRnL",
      "include_colab_link": true
    },
    "kernelspec": {
      "name": "python3",
      "display_name": "Python 3"
    },
    "language_info": {
      "name": "python"
    }
  },
  "cells": [
    {
      "cell_type": "markdown",
      "metadata": {
        "id": "view-in-github",
        "colab_type": "text"
      },
      "source": [
        "<a href=\"https://colab.research.google.com/github/ferreyraru/coderhouseData/blob/main/Proyecto_Final_Ruben_Ferreyra.ipynb\" target=\"_parent\"><img src=\"https://colab.research.google.com/assets/colab-badge.svg\" alt=\"Open In Colab\"/></a>"
      ]
    },
    {
      "cell_type": "markdown",
      "source": [
        "# **Proyecto Final**\n",
        "\n",
        "# **Data Science I : Fundamentos para la Ciencia de Datos**\n",
        "\n",
        "# **Titulo: Analisis de Satisfacción en vuelos comerciales**"
      ],
      "metadata": {
        "id": "_XMCWL30Jv12"
      }
    },
    {
      "cell_type": "markdown",
      "source": [
        "Fecha: 4/10/2024\n",
        "\n",
        "Alumno: Ruben Ferreyra\n",
        "\n",
        "Comisión: 61675"
      ],
      "metadata": {
        "id": "VxRsSSDmKVlq"
      }
    },
    {
      "cell_type": "markdown",
      "source": [
        "# Abstract / Dataset:\n",
        "\n",
        "Se eligió un dataset llamado \"Airline Passenger Satisfaction\", que contiene información sobre los resultados de encuestas de satisfacción de pasajeros aéreos. Incluye tanto las respuestas a preguntas específicas sobre diversos servicios proporcionados durante el vuelo, como evaluación general del nivel de satisfacción con la aerolínea luego de un viaje.\n",
        "\n",
        "El conjunto de datos está compuesto por más de 103.000 registros y 24 atributos. Estos datos permiten un análisis avanzado de clasificación sobre cada categoría, y su influencia en las respuestas positivas o negativas respecto a la satisfacción general del servicio. Se podrá analizar cuáles servicios tienen mayor influencia en la respuesta final de los clientes, y si las demoras en el arribo también afectan los resultados. Existen otras variables que también son de mucho valor para el análisis, que pueden dividirse entre datos que no están relacionados con la experiencia en el servicio recibido en el viaje, como el género y la edad, la categoría comprada o el tipo de cliente, y aquellas que si tienen que ver con la experiencia y el servicio que se recibió antes y durante el recorrido.\n",
        "\n",
        "Finalmente, con esta información tan clara y detallada, se realizarán hipótesis y se analizarán los datos, para determinar como influyen en las respuestas generales, para confirmar cuáles de ellos pueden afectar más la satisfacción del cliente. Es necesario evaluar si esas variable podrían ser puestas en consideración para lograr mejorarlas a través de una inversión en el mediano plazo, enfocándose en aquellas categorías en las que se pueda confirmar que más afecten la satisfacción de los pasajeros, y que no son variables no relacionadas con la experiencia, como por ejemplo la edad de los pasajeros, donde la aerolínea no puede tener una influencia clara.\n",
        "\n",
        "# Usuario final del proyecto\n",
        "\n",
        "El usuario final de este proyecto es una compañía area de nivel mundial, que ha recopilado la información para poder realizar los análisis solicitados como objeto de este proyecto."
      ],
      "metadata": {
        "id": "SVA9yG_qW15p"
      }
    },
    {
      "cell_type": "markdown",
      "source": [
        "El dataset fue obtenido del siguiente link provisto por Coderhouse:\n",
        "\n",
        "https://drive.google.com/drive/folders/1mvGmYlb6voKr7U5OMURxnuBvsNvAntpC"
      ],
      "metadata": {
        "id": "obrbaRYjZjnj"
      }
    },
    {
      "cell_type": "markdown",
      "source": [
        "Diccionario de los datos:\n",
        "\n",
        "Gender: Género de los pasajeros (Femenino, Masculino)\n",
        "\n",
        "Customer Type: El tipo de cliente (Cliente Loyal, cliente Disloyal)\n",
        "\n",
        "Age: La edad real de los pasajeros\n",
        "\n",
        "Type of Travel: Propósito del vuelo de los pasajeros (Viaje\n",
        "Personal, Viaje de Negocios)\n",
        "\n",
        "Class: Clase de viaje en el avión de los pasajeros (Negocios, Económica, Económica Plus)\n",
        "\n",
        "Flight distance: La distancia del vuelo de este viaje\n",
        "\n",
        "Inflight wifi service: Nivel de satisfacción del servicio de wifi a bordo (0: No Aplicable; 1-5)\n",
        "\n",
        "Departure/Arrival time convenient: Nivel de satisfacción con la conveniencia del horario de salida/llegada\n",
        "\n",
        "Ease of Online booking: Nivel de satisfacción con la reserva en línea\n",
        "\n",
        "Gate location: Nivel de satisfacción con la ubicación de la puerta\n",
        "\n",
        "Food and drink: Nivel de satisfacción con la comida y bebida\n",
        "\n",
        "Online boarding: Nivel de satisfacción con el embarque en línea\n",
        "\n",
        "Seat comfort: Nivel de satisfacción con la comodidad del asiento\n",
        "\n",
        "Inflight entertainment: Nivel de satisfacción con el entretenimiento a bordo\n",
        "\n",
        "On-board service: Nivel de satisfacción con el servicio a bordo\n",
        "\n",
        "Leg room service: Nivel de satisfacción con el servicio de espacio\n",
        "para las piernas\n",
        "\n",
        "Baggage handling: Nivel de satisfacción con el manejo de equipaje\n",
        "\n",
        "Check-in service: Nivel de satisfacción con el servicio de check-in\n",
        "\n",
        "Inflight service: Nivel de satisfacción con el servicio a bordo\n",
        "\n",
        "Cleanliness: Nivel de satisfacción con la limpieza\n",
        "\n",
        "Departure Delay in Minutes: Minutos de retraso en la salida\n",
        "\n",
        "Arrival Delay in Minutes: Minutos de retraso en la llegada\n",
        "\n",
        "Satisfaction: Nivel de satisfacción con la aerolínea (Satisfecho o \"neutral o insatisfecho\")"
      ],
      "metadata": {
        "id": "mh8_j7bllgoQ"
      }
    },
    {
      "cell_type": "markdown",
      "source": [
        "Objetivo:\n",
        "\n",
        "*   Realizar análisis exploratorios de los datos\n",
        "*   Establecer 2 hipótesis, y desarrollar análisis y gráficos que permitan confirmar o rechazar lo propuesto.\n",
        "*   Identificar variables más influyentes en cuanto a la respuesta de satisfacción de los clientes\n",
        "*   Elegir un algoritmo para entrenar con los datos elegidos.\n",
        "*   Cálculo de métricas básicas para validar el modelo.\n",
        "*   Generar conclusiones con base en los resultados obtenidos, para ser informados a la compañía aerea."
      ],
      "metadata": {
        "id": "9flQCv44v9Vk"
      }
    },
    {
      "cell_type": "markdown",
      "source": [
        "# Importación de todas las librerías necesarias para el reporte"
      ],
      "metadata": {
        "id": "PNo2HnXEqn0P"
      }
    },
    {
      "cell_type": "code",
      "source": [
        "#librerías\n",
        "import pandas as pd\n",
        "import numpy as np\n",
        "import matplotlib.pyplot as plt\n",
        "import seaborn as sns\n",
        "from sklearn.impute import SimpleImputer # Importa la clase SimpleImputer para trabajar con los nulos\n",
        "import sys\n",
        "import joblib\n",
        "\n",
        "#instalando mlxtend\n",
        "!pip install mlxtend\n",
        "\n",
        "from sklearn.ensemble import RandomForestClassifier\n",
        "from mlxtend.feature_selection import SequentialFeatureSelector as SFS\n",
        "from sklearn.model_selection import train_test_split\n",
        "from sklearn.metrics import mean_squared_error, r2_score\n",
        "\n",
        "from sklearn import datasets\n",
        "from sklearn.tree import DecisionTreeClassifier\n",
        "from sklearn import tree\n",
        "\n",
        "from sklearn.model_selection import train_test_split\n",
        "from sklearn.metrics import accuracy_score, precision_score, recall_score,confusion_matrix, f1_score, ConfusionMatrixDisplay, classification_report # Import necessary functions\n"
      ],
      "metadata": {
        "id": "rgDx9YbbwaKO",
        "colab": {
          "base_uri": "https://localhost:8080/"
        },
        "outputId": "cbea0335-d346-4146-81ad-3ea1db34e9cb"
      },
      "execution_count": null,
      "outputs": [
        {
          "output_type": "stream",
          "name": "stdout",
          "text": [
            "Requirement already satisfied: mlxtend in /usr/local/lib/python3.10/dist-packages (0.23.2)\n",
            "Requirement already satisfied: scipy>=1.2.1 in /usr/local/lib/python3.10/dist-packages (from mlxtend) (1.13.1)\n",
            "Requirement already satisfied: numpy>=1.16.2 in /usr/local/lib/python3.10/dist-packages (from mlxtend) (1.26.4)\n",
            "Requirement already satisfied: pandas>=0.24.2 in /usr/local/lib/python3.10/dist-packages (from mlxtend) (2.2.2)\n",
            "Requirement already satisfied: scikit-learn>=1.3.1 in /usr/local/lib/python3.10/dist-packages (from mlxtend) (1.5.2)\n",
            "Requirement already satisfied: matplotlib>=3.0.0 in /usr/local/lib/python3.10/dist-packages (from mlxtend) (3.8.0)\n",
            "Requirement already satisfied: joblib>=0.13.2 in /usr/local/lib/python3.10/dist-packages (from mlxtend) (1.4.2)\n",
            "Requirement already satisfied: contourpy>=1.0.1 in /usr/local/lib/python3.10/dist-packages (from matplotlib>=3.0.0->mlxtend) (1.3.0)\n",
            "Requirement already satisfied: cycler>=0.10 in /usr/local/lib/python3.10/dist-packages (from matplotlib>=3.0.0->mlxtend) (0.12.1)\n",
            "Requirement already satisfied: fonttools>=4.22.0 in /usr/local/lib/python3.10/dist-packages (from matplotlib>=3.0.0->mlxtend) (4.54.1)\n",
            "Requirement already satisfied: kiwisolver>=1.0.1 in /usr/local/lib/python3.10/dist-packages (from matplotlib>=3.0.0->mlxtend) (1.4.7)\n",
            "Requirement already satisfied: packaging>=20.0 in /usr/local/lib/python3.10/dist-packages (from matplotlib>=3.0.0->mlxtend) (24.1)\n",
            "Requirement already satisfied: pillow>=6.2.0 in /usr/local/lib/python3.10/dist-packages (from matplotlib>=3.0.0->mlxtend) (10.4.0)\n",
            "Requirement already satisfied: pyparsing>=2.3.1 in /usr/local/lib/python3.10/dist-packages (from matplotlib>=3.0.0->mlxtend) (3.2.0)\n",
            "Requirement already satisfied: python-dateutil>=2.7 in /usr/local/lib/python3.10/dist-packages (from matplotlib>=3.0.0->mlxtend) (2.8.2)\n",
            "Requirement already satisfied: pytz>=2020.1 in /usr/local/lib/python3.10/dist-packages (from pandas>=0.24.2->mlxtend) (2024.2)\n",
            "Requirement already satisfied: tzdata>=2022.7 in /usr/local/lib/python3.10/dist-packages (from pandas>=0.24.2->mlxtend) (2024.2)\n",
            "Requirement already satisfied: threadpoolctl>=3.1.0 in /usr/local/lib/python3.10/dist-packages (from scikit-learn>=1.3.1->mlxtend) (3.5.0)\n",
            "Requirement already satisfied: six>=1.5 in /usr/local/lib/python3.10/dist-packages (from python-dateutil>=2.7->matplotlib>=3.0.0->mlxtend) (1.16.0)\n"
          ]
        }
      ]
    },
    {
      "cell_type": "code",
      "source": [
        "#Carga del dataset\n",
        "file_path = \"https://raw.githubusercontent.com/ferreyraru/coderhouseData/refs/heads/main/Airline%20Passenger%20Satisfaction.csv\"\n",
        "travelsat = pd.read_csv(file_path)\n"
      ],
      "metadata": {
        "id": "S9Zqu-KJEwA5"
      },
      "execution_count": null,
      "outputs": []
    },
    {
      "cell_type": "markdown",
      "source": [
        "# **EDA analisis exploratorio de datos e hipótesis**"
      ],
      "metadata": {
        "id": "wIXhAiuhQNUZ"
      }
    },
    {
      "cell_type": "markdown",
      "source": [
        "Se comienza analizando la base de datos:"
      ],
      "metadata": {
        "id": "fDb4Q_yHTZzz"
      }
    },
    {
      "cell_type": "code",
      "source": [
        "#Vista general de los datos\n",
        "travelsat.head()"
      ],
      "metadata": {
        "colab": {
          "base_uri": "https://localhost:8080/",
          "height": 394
        },
        "id": "uECRK_s4Quym",
        "outputId": "a634d5bc-3327-4e62-c5b0-456da74d7ba5"
      },
      "execution_count": null,
      "outputs": [
        {
          "output_type": "execute_result",
          "data": {
            "text/plain": [
              "   Unnamed: 0      id  Gender      Customer Type  Age   Type of Travel  \\\n",
              "0           0   70172    Male     Loyal Customer   13  Personal Travel   \n",
              "1           1    5047    Male  disloyal Customer   25  Business travel   \n",
              "2           2  110028  Female     Loyal Customer   26  Business travel   \n",
              "3           3   24026  Female     Loyal Customer   25  Business travel   \n",
              "4           4  119299    Male     Loyal Customer   61  Business travel   \n",
              "\n",
              "      Class  Flight Distance  Inflight wifi service  \\\n",
              "0  Eco Plus              460                      3   \n",
              "1  Business              235                      3   \n",
              "2  Business             1142                      2   \n",
              "3  Business              562                      2   \n",
              "4  Business              214                      3   \n",
              "\n",
              "   Departure/Arrival time convenient  ...  Inflight entertainment  \\\n",
              "0                                  4  ...                       5   \n",
              "1                                  2  ...                       1   \n",
              "2                                  2  ...                       5   \n",
              "3                                  5  ...                       2   \n",
              "4                                  3  ...                       3   \n",
              "\n",
              "   On-board service  Leg room service  Baggage handling  Checkin service  \\\n",
              "0                 4                 3                 4                4   \n",
              "1                 1                 5                 3                1   \n",
              "2                 4                 3                 4                4   \n",
              "3                 2                 5                 3                1   \n",
              "4                 3                 4                 4                3   \n",
              "\n",
              "   Inflight service  Cleanliness  Departure Delay in Minutes  \\\n",
              "0                 5            5                          25   \n",
              "1                 4            1                           1   \n",
              "2                 4            5                           0   \n",
              "3                 4            2                          11   \n",
              "4                 3            3                           0   \n",
              "\n",
              "   Arrival Delay in Minutes             satisfaction  \n",
              "0                      18.0  neutral or dissatisfied  \n",
              "1                       6.0  neutral or dissatisfied  \n",
              "2                       0.0                satisfied  \n",
              "3                       9.0  neutral or dissatisfied  \n",
              "4                       0.0                satisfied  \n",
              "\n",
              "[5 rows x 25 columns]"
            ],
            "text/html": [
              "\n",
              "  <div id=\"df-64392f98-4c73-4042-bbbc-228e186c6e47\" class=\"colab-df-container\">\n",
              "    <div>\n",
              "<style scoped>\n",
              "    .dataframe tbody tr th:only-of-type {\n",
              "        vertical-align: middle;\n",
              "    }\n",
              "\n",
              "    .dataframe tbody tr th {\n",
              "        vertical-align: top;\n",
              "    }\n",
              "\n",
              "    .dataframe thead th {\n",
              "        text-align: right;\n",
              "    }\n",
              "</style>\n",
              "<table border=\"1\" class=\"dataframe\">\n",
              "  <thead>\n",
              "    <tr style=\"text-align: right;\">\n",
              "      <th></th>\n",
              "      <th>Unnamed: 0</th>\n",
              "      <th>id</th>\n",
              "      <th>Gender</th>\n",
              "      <th>Customer Type</th>\n",
              "      <th>Age</th>\n",
              "      <th>Type of Travel</th>\n",
              "      <th>Class</th>\n",
              "      <th>Flight Distance</th>\n",
              "      <th>Inflight wifi service</th>\n",
              "      <th>Departure/Arrival time convenient</th>\n",
              "      <th>...</th>\n",
              "      <th>Inflight entertainment</th>\n",
              "      <th>On-board service</th>\n",
              "      <th>Leg room service</th>\n",
              "      <th>Baggage handling</th>\n",
              "      <th>Checkin service</th>\n",
              "      <th>Inflight service</th>\n",
              "      <th>Cleanliness</th>\n",
              "      <th>Departure Delay in Minutes</th>\n",
              "      <th>Arrival Delay in Minutes</th>\n",
              "      <th>satisfaction</th>\n",
              "    </tr>\n",
              "  </thead>\n",
              "  <tbody>\n",
              "    <tr>\n",
              "      <th>0</th>\n",
              "      <td>0</td>\n",
              "      <td>70172</td>\n",
              "      <td>Male</td>\n",
              "      <td>Loyal Customer</td>\n",
              "      <td>13</td>\n",
              "      <td>Personal Travel</td>\n",
              "      <td>Eco Plus</td>\n",
              "      <td>460</td>\n",
              "      <td>3</td>\n",
              "      <td>4</td>\n",
              "      <td>...</td>\n",
              "      <td>5</td>\n",
              "      <td>4</td>\n",
              "      <td>3</td>\n",
              "      <td>4</td>\n",
              "      <td>4</td>\n",
              "      <td>5</td>\n",
              "      <td>5</td>\n",
              "      <td>25</td>\n",
              "      <td>18.0</td>\n",
              "      <td>neutral or dissatisfied</td>\n",
              "    </tr>\n",
              "    <tr>\n",
              "      <th>1</th>\n",
              "      <td>1</td>\n",
              "      <td>5047</td>\n",
              "      <td>Male</td>\n",
              "      <td>disloyal Customer</td>\n",
              "      <td>25</td>\n",
              "      <td>Business travel</td>\n",
              "      <td>Business</td>\n",
              "      <td>235</td>\n",
              "      <td>3</td>\n",
              "      <td>2</td>\n",
              "      <td>...</td>\n",
              "      <td>1</td>\n",
              "      <td>1</td>\n",
              "      <td>5</td>\n",
              "      <td>3</td>\n",
              "      <td>1</td>\n",
              "      <td>4</td>\n",
              "      <td>1</td>\n",
              "      <td>1</td>\n",
              "      <td>6.0</td>\n",
              "      <td>neutral or dissatisfied</td>\n",
              "    </tr>\n",
              "    <tr>\n",
              "      <th>2</th>\n",
              "      <td>2</td>\n",
              "      <td>110028</td>\n",
              "      <td>Female</td>\n",
              "      <td>Loyal Customer</td>\n",
              "      <td>26</td>\n",
              "      <td>Business travel</td>\n",
              "      <td>Business</td>\n",
              "      <td>1142</td>\n",
              "      <td>2</td>\n",
              "      <td>2</td>\n",
              "      <td>...</td>\n",
              "      <td>5</td>\n",
              "      <td>4</td>\n",
              "      <td>3</td>\n",
              "      <td>4</td>\n",
              "      <td>4</td>\n",
              "      <td>4</td>\n",
              "      <td>5</td>\n",
              "      <td>0</td>\n",
              "      <td>0.0</td>\n",
              "      <td>satisfied</td>\n",
              "    </tr>\n",
              "    <tr>\n",
              "      <th>3</th>\n",
              "      <td>3</td>\n",
              "      <td>24026</td>\n",
              "      <td>Female</td>\n",
              "      <td>Loyal Customer</td>\n",
              "      <td>25</td>\n",
              "      <td>Business travel</td>\n",
              "      <td>Business</td>\n",
              "      <td>562</td>\n",
              "      <td>2</td>\n",
              "      <td>5</td>\n",
              "      <td>...</td>\n",
              "      <td>2</td>\n",
              "      <td>2</td>\n",
              "      <td>5</td>\n",
              "      <td>3</td>\n",
              "      <td>1</td>\n",
              "      <td>4</td>\n",
              "      <td>2</td>\n",
              "      <td>11</td>\n",
              "      <td>9.0</td>\n",
              "      <td>neutral or dissatisfied</td>\n",
              "    </tr>\n",
              "    <tr>\n",
              "      <th>4</th>\n",
              "      <td>4</td>\n",
              "      <td>119299</td>\n",
              "      <td>Male</td>\n",
              "      <td>Loyal Customer</td>\n",
              "      <td>61</td>\n",
              "      <td>Business travel</td>\n",
              "      <td>Business</td>\n",
              "      <td>214</td>\n",
              "      <td>3</td>\n",
              "      <td>3</td>\n",
              "      <td>...</td>\n",
              "      <td>3</td>\n",
              "      <td>3</td>\n",
              "      <td>4</td>\n",
              "      <td>4</td>\n",
              "      <td>3</td>\n",
              "      <td>3</td>\n",
              "      <td>3</td>\n",
              "      <td>0</td>\n",
              "      <td>0.0</td>\n",
              "      <td>satisfied</td>\n",
              "    </tr>\n",
              "  </tbody>\n",
              "</table>\n",
              "<p>5 rows × 25 columns</p>\n",
              "</div>\n",
              "    <div class=\"colab-df-buttons\">\n",
              "\n",
              "  <div class=\"colab-df-container\">\n",
              "    <button class=\"colab-df-convert\" onclick=\"convertToInteractive('df-64392f98-4c73-4042-bbbc-228e186c6e47')\"\n",
              "            title=\"Convert this dataframe to an interactive table.\"\n",
              "            style=\"display:none;\">\n",
              "\n",
              "  <svg xmlns=\"http://www.w3.org/2000/svg\" height=\"24px\" viewBox=\"0 -960 960 960\">\n",
              "    <path d=\"M120-120v-720h720v720H120Zm60-500h600v-160H180v160Zm220 220h160v-160H400v160Zm0 220h160v-160H400v160ZM180-400h160v-160H180v160Zm440 0h160v-160H620v160ZM180-180h160v-160H180v160Zm440 0h160v-160H620v160Z\"/>\n",
              "  </svg>\n",
              "    </button>\n",
              "\n",
              "  <style>\n",
              "    .colab-df-container {\n",
              "      display:flex;\n",
              "      gap: 12px;\n",
              "    }\n",
              "\n",
              "    .colab-df-convert {\n",
              "      background-color: #E8F0FE;\n",
              "      border: none;\n",
              "      border-radius: 50%;\n",
              "      cursor: pointer;\n",
              "      display: none;\n",
              "      fill: #1967D2;\n",
              "      height: 32px;\n",
              "      padding: 0 0 0 0;\n",
              "      width: 32px;\n",
              "    }\n",
              "\n",
              "    .colab-df-convert:hover {\n",
              "      background-color: #E2EBFA;\n",
              "      box-shadow: 0px 1px 2px rgba(60, 64, 67, 0.3), 0px 1px 3px 1px rgba(60, 64, 67, 0.15);\n",
              "      fill: #174EA6;\n",
              "    }\n",
              "\n",
              "    .colab-df-buttons div {\n",
              "      margin-bottom: 4px;\n",
              "    }\n",
              "\n",
              "    [theme=dark] .colab-df-convert {\n",
              "      background-color: #3B4455;\n",
              "      fill: #D2E3FC;\n",
              "    }\n",
              "\n",
              "    [theme=dark] .colab-df-convert:hover {\n",
              "      background-color: #434B5C;\n",
              "      box-shadow: 0px 1px 3px 1px rgba(0, 0, 0, 0.15);\n",
              "      filter: drop-shadow(0px 1px 2px rgba(0, 0, 0, 0.3));\n",
              "      fill: #FFFFFF;\n",
              "    }\n",
              "  </style>\n",
              "\n",
              "    <script>\n",
              "      const buttonEl =\n",
              "        document.querySelector('#df-64392f98-4c73-4042-bbbc-228e186c6e47 button.colab-df-convert');\n",
              "      buttonEl.style.display =\n",
              "        google.colab.kernel.accessAllowed ? 'block' : 'none';\n",
              "\n",
              "      async function convertToInteractive(key) {\n",
              "        const element = document.querySelector('#df-64392f98-4c73-4042-bbbc-228e186c6e47');\n",
              "        const dataTable =\n",
              "          await google.colab.kernel.invokeFunction('convertToInteractive',\n",
              "                                                    [key], {});\n",
              "        if (!dataTable) return;\n",
              "\n",
              "        const docLinkHtml = 'Like what you see? Visit the ' +\n",
              "          '<a target=\"_blank\" href=https://colab.research.google.com/notebooks/data_table.ipynb>data table notebook</a>'\n",
              "          + ' to learn more about interactive tables.';\n",
              "        element.innerHTML = '';\n",
              "        dataTable['output_type'] = 'display_data';\n",
              "        await google.colab.output.renderOutput(dataTable, element);\n",
              "        const docLink = document.createElement('div');\n",
              "        docLink.innerHTML = docLinkHtml;\n",
              "        element.appendChild(docLink);\n",
              "      }\n",
              "    </script>\n",
              "  </div>\n",
              "\n",
              "\n",
              "<div id=\"df-e9b4ffeb-ecb1-414d-87c0-2920f4fe6f94\">\n",
              "  <button class=\"colab-df-quickchart\" onclick=\"quickchart('df-e9b4ffeb-ecb1-414d-87c0-2920f4fe6f94')\"\n",
              "            title=\"Suggest charts\"\n",
              "            style=\"display:none;\">\n",
              "\n",
              "<svg xmlns=\"http://www.w3.org/2000/svg\" height=\"24px\"viewBox=\"0 0 24 24\"\n",
              "     width=\"24px\">\n",
              "    <g>\n",
              "        <path d=\"M19 3H5c-1.1 0-2 .9-2 2v14c0 1.1.9 2 2 2h14c1.1 0 2-.9 2-2V5c0-1.1-.9-2-2-2zM9 17H7v-7h2v7zm4 0h-2V7h2v10zm4 0h-2v-4h2v4z\"/>\n",
              "    </g>\n",
              "</svg>\n",
              "  </button>\n",
              "\n",
              "<style>\n",
              "  .colab-df-quickchart {\n",
              "      --bg-color: #E8F0FE;\n",
              "      --fill-color: #1967D2;\n",
              "      --hover-bg-color: #E2EBFA;\n",
              "      --hover-fill-color: #174EA6;\n",
              "      --disabled-fill-color: #AAA;\n",
              "      --disabled-bg-color: #DDD;\n",
              "  }\n",
              "\n",
              "  [theme=dark] .colab-df-quickchart {\n",
              "      --bg-color: #3B4455;\n",
              "      --fill-color: #D2E3FC;\n",
              "      --hover-bg-color: #434B5C;\n",
              "      --hover-fill-color: #FFFFFF;\n",
              "      --disabled-bg-color: #3B4455;\n",
              "      --disabled-fill-color: #666;\n",
              "  }\n",
              "\n",
              "  .colab-df-quickchart {\n",
              "    background-color: var(--bg-color);\n",
              "    border: none;\n",
              "    border-radius: 50%;\n",
              "    cursor: pointer;\n",
              "    display: none;\n",
              "    fill: var(--fill-color);\n",
              "    height: 32px;\n",
              "    padding: 0;\n",
              "    width: 32px;\n",
              "  }\n",
              "\n",
              "  .colab-df-quickchart:hover {\n",
              "    background-color: var(--hover-bg-color);\n",
              "    box-shadow: 0 1px 2px rgba(60, 64, 67, 0.3), 0 1px 3px 1px rgba(60, 64, 67, 0.15);\n",
              "    fill: var(--button-hover-fill-color);\n",
              "  }\n",
              "\n",
              "  .colab-df-quickchart-complete:disabled,\n",
              "  .colab-df-quickchart-complete:disabled:hover {\n",
              "    background-color: var(--disabled-bg-color);\n",
              "    fill: var(--disabled-fill-color);\n",
              "    box-shadow: none;\n",
              "  }\n",
              "\n",
              "  .colab-df-spinner {\n",
              "    border: 2px solid var(--fill-color);\n",
              "    border-color: transparent;\n",
              "    border-bottom-color: var(--fill-color);\n",
              "    animation:\n",
              "      spin 1s steps(1) infinite;\n",
              "  }\n",
              "\n",
              "  @keyframes spin {\n",
              "    0% {\n",
              "      border-color: transparent;\n",
              "      border-bottom-color: var(--fill-color);\n",
              "      border-left-color: var(--fill-color);\n",
              "    }\n",
              "    20% {\n",
              "      border-color: transparent;\n",
              "      border-left-color: var(--fill-color);\n",
              "      border-top-color: var(--fill-color);\n",
              "    }\n",
              "    30% {\n",
              "      border-color: transparent;\n",
              "      border-left-color: var(--fill-color);\n",
              "      border-top-color: var(--fill-color);\n",
              "      border-right-color: var(--fill-color);\n",
              "    }\n",
              "    40% {\n",
              "      border-color: transparent;\n",
              "      border-right-color: var(--fill-color);\n",
              "      border-top-color: var(--fill-color);\n",
              "    }\n",
              "    60% {\n",
              "      border-color: transparent;\n",
              "      border-right-color: var(--fill-color);\n",
              "    }\n",
              "    80% {\n",
              "      border-color: transparent;\n",
              "      border-right-color: var(--fill-color);\n",
              "      border-bottom-color: var(--fill-color);\n",
              "    }\n",
              "    90% {\n",
              "      border-color: transparent;\n",
              "      border-bottom-color: var(--fill-color);\n",
              "    }\n",
              "  }\n",
              "</style>\n",
              "\n",
              "  <script>\n",
              "    async function quickchart(key) {\n",
              "      const quickchartButtonEl =\n",
              "        document.querySelector('#' + key + ' button');\n",
              "      quickchartButtonEl.disabled = true;  // To prevent multiple clicks.\n",
              "      quickchartButtonEl.classList.add('colab-df-spinner');\n",
              "      try {\n",
              "        const charts = await google.colab.kernel.invokeFunction(\n",
              "            'suggestCharts', [key], {});\n",
              "      } catch (error) {\n",
              "        console.error('Error during call to suggestCharts:', error);\n",
              "      }\n",
              "      quickchartButtonEl.classList.remove('colab-df-spinner');\n",
              "      quickchartButtonEl.classList.add('colab-df-quickchart-complete');\n",
              "    }\n",
              "    (() => {\n",
              "      let quickchartButtonEl =\n",
              "        document.querySelector('#df-e9b4ffeb-ecb1-414d-87c0-2920f4fe6f94 button');\n",
              "      quickchartButtonEl.style.display =\n",
              "        google.colab.kernel.accessAllowed ? 'block' : 'none';\n",
              "    })();\n",
              "  </script>\n",
              "</div>\n",
              "\n",
              "    </div>\n",
              "  </div>\n"
            ],
            "application/vnd.google.colaboratory.intrinsic+json": {
              "type": "dataframe",
              "variable_name": "travelsat"
            }
          },
          "metadata": {},
          "execution_count": 3
        }
      ]
    },
    {
      "cell_type": "code",
      "source": [
        "travelsat.shape\n"
      ],
      "metadata": {
        "colab": {
          "base_uri": "https://localhost:8080/"
        },
        "id": "q2fgnmsBPhU5",
        "outputId": "552f7995-b1c2-466e-c438-7a7dfb54a4d0"
      },
      "execution_count": null,
      "outputs": [
        {
          "output_type": "execute_result",
          "data": {
            "text/plain": [
              "(103904, 25)"
            ]
          },
          "metadata": {},
          "execution_count": 4
        }
      ]
    },
    {
      "cell_type": "code",
      "source": [
        "travelsat.columns"
      ],
      "metadata": {
        "colab": {
          "base_uri": "https://localhost:8080/"
        },
        "id": "P6wh2ThGStED",
        "outputId": "dba74721-81e6-48bb-95db-66c2912418be"
      },
      "execution_count": null,
      "outputs": [
        {
          "output_type": "execute_result",
          "data": {
            "text/plain": [
              "Index(['Unnamed: 0', 'id', 'Gender', 'Customer Type', 'Age', 'Type of Travel',\n",
              "       'Class', 'Flight Distance', 'Inflight wifi service',\n",
              "       'Departure/Arrival time convenient', 'Ease of Online booking',\n",
              "       'Gate location', 'Food and drink', 'Online boarding', 'Seat comfort',\n",
              "       'Inflight entertainment', 'On-board service', 'Leg room service',\n",
              "       'Baggage handling', 'Checkin service', 'Inflight service',\n",
              "       'Cleanliness', 'Departure Delay in Minutes', 'Arrival Delay in Minutes',\n",
              "       'satisfaction'],\n",
              "      dtype='object')"
            ]
          },
          "metadata": {},
          "execution_count": 5
        }
      ]
    },
    {
      "cell_type": "code",
      "source": [
        "travelsat.describe()"
      ],
      "metadata": {
        "colab": {
          "base_uri": "https://localhost:8080/",
          "height": 355
        },
        "id": "qh3_bvKpQy6k",
        "outputId": "3a921538-4adf-42e2-8872-cd6d36f16975"
      },
      "execution_count": null,
      "outputs": [
        {
          "output_type": "execute_result",
          "data": {
            "text/plain": [
              "          Unnamed: 0             id            Age  Flight Distance  \\\n",
              "count  103904.000000  103904.000000  103904.000000    103904.000000   \n",
              "mean    51951.500000   64924.210502      39.379706      1189.448375   \n",
              "std     29994.645522   37463.812252      15.114964       997.147281   \n",
              "min         0.000000       1.000000       7.000000        31.000000   \n",
              "25%     25975.750000   32533.750000      27.000000       414.000000   \n",
              "50%     51951.500000   64856.500000      40.000000       843.000000   \n",
              "75%     77927.250000   97368.250000      51.000000      1743.000000   \n",
              "max    103903.000000  129880.000000      85.000000      4983.000000   \n",
              "\n",
              "       Inflight wifi service  Departure/Arrival time convenient  \\\n",
              "count          103904.000000                      103904.000000   \n",
              "mean                2.729683                           3.060296   \n",
              "std                 1.327829                           1.525075   \n",
              "min                 0.000000                           0.000000   \n",
              "25%                 2.000000                           2.000000   \n",
              "50%                 3.000000                           3.000000   \n",
              "75%                 4.000000                           4.000000   \n",
              "max                 5.000000                           5.000000   \n",
              "\n",
              "       Ease of Online booking  Gate location  Food and drink  Online boarding  \\\n",
              "count           103904.000000  103904.000000   103904.000000    103904.000000   \n",
              "mean                 2.756901       2.976883        3.202129         3.250375   \n",
              "std                  1.398929       1.277621        1.329533         1.349509   \n",
              "min                  0.000000       0.000000        0.000000         0.000000   \n",
              "25%                  2.000000       2.000000        2.000000         2.000000   \n",
              "50%                  3.000000       3.000000        3.000000         3.000000   \n",
              "75%                  4.000000       4.000000        4.000000         4.000000   \n",
              "max                  5.000000       5.000000        5.000000         5.000000   \n",
              "\n",
              "        Seat comfort  Inflight entertainment  On-board service  \\\n",
              "count  103904.000000           103904.000000     103904.000000   \n",
              "mean        3.439396                3.358158          3.382363   \n",
              "std         1.319088                1.332991          1.288354   \n",
              "min         0.000000                0.000000          0.000000   \n",
              "25%         2.000000                2.000000          2.000000   \n",
              "50%         4.000000                4.000000          4.000000   \n",
              "75%         5.000000                4.000000          4.000000   \n",
              "max         5.000000                5.000000          5.000000   \n",
              "\n",
              "       Leg room service  Baggage handling  Checkin service  Inflight service  \\\n",
              "count     103904.000000     103904.000000    103904.000000     103904.000000   \n",
              "mean           3.351055          3.631833         3.304290          3.640428   \n",
              "std            1.315605          1.180903         1.265396          1.175663   \n",
              "min            0.000000          1.000000         0.000000          0.000000   \n",
              "25%            2.000000          3.000000         3.000000          3.000000   \n",
              "50%            4.000000          4.000000         3.000000          4.000000   \n",
              "75%            4.000000          5.000000         4.000000          5.000000   \n",
              "max            5.000000          5.000000         5.000000          5.000000   \n",
              "\n",
              "         Cleanliness  Departure Delay in Minutes  Arrival Delay in Minutes  \n",
              "count  103904.000000               103904.000000             103594.000000  \n",
              "mean        3.286351                   14.815618                 15.178678  \n",
              "std         1.312273                   38.230901                 38.698682  \n",
              "min         0.000000                    0.000000                  0.000000  \n",
              "25%         2.000000                    0.000000                  0.000000  \n",
              "50%         3.000000                    0.000000                  0.000000  \n",
              "75%         4.000000                   12.000000                 13.000000  \n",
              "max         5.000000                 1592.000000               1584.000000  "
            ],
            "text/html": [
              "\n",
              "  <div id=\"df-f655db86-11f5-4d14-9324-bfd925031547\" class=\"colab-df-container\">\n",
              "    <div>\n",
              "<style scoped>\n",
              "    .dataframe tbody tr th:only-of-type {\n",
              "        vertical-align: middle;\n",
              "    }\n",
              "\n",
              "    .dataframe tbody tr th {\n",
              "        vertical-align: top;\n",
              "    }\n",
              "\n",
              "    .dataframe thead th {\n",
              "        text-align: right;\n",
              "    }\n",
              "</style>\n",
              "<table border=\"1\" class=\"dataframe\">\n",
              "  <thead>\n",
              "    <tr style=\"text-align: right;\">\n",
              "      <th></th>\n",
              "      <th>Unnamed: 0</th>\n",
              "      <th>id</th>\n",
              "      <th>Age</th>\n",
              "      <th>Flight Distance</th>\n",
              "      <th>Inflight wifi service</th>\n",
              "      <th>Departure/Arrival time convenient</th>\n",
              "      <th>Ease of Online booking</th>\n",
              "      <th>Gate location</th>\n",
              "      <th>Food and drink</th>\n",
              "      <th>Online boarding</th>\n",
              "      <th>Seat comfort</th>\n",
              "      <th>Inflight entertainment</th>\n",
              "      <th>On-board service</th>\n",
              "      <th>Leg room service</th>\n",
              "      <th>Baggage handling</th>\n",
              "      <th>Checkin service</th>\n",
              "      <th>Inflight service</th>\n",
              "      <th>Cleanliness</th>\n",
              "      <th>Departure Delay in Minutes</th>\n",
              "      <th>Arrival Delay in Minutes</th>\n",
              "    </tr>\n",
              "  </thead>\n",
              "  <tbody>\n",
              "    <tr>\n",
              "      <th>count</th>\n",
              "      <td>103904.000000</td>\n",
              "      <td>103904.000000</td>\n",
              "      <td>103904.000000</td>\n",
              "      <td>103904.000000</td>\n",
              "      <td>103904.000000</td>\n",
              "      <td>103904.000000</td>\n",
              "      <td>103904.000000</td>\n",
              "      <td>103904.000000</td>\n",
              "      <td>103904.000000</td>\n",
              "      <td>103904.000000</td>\n",
              "      <td>103904.000000</td>\n",
              "      <td>103904.000000</td>\n",
              "      <td>103904.000000</td>\n",
              "      <td>103904.000000</td>\n",
              "      <td>103904.000000</td>\n",
              "      <td>103904.000000</td>\n",
              "      <td>103904.000000</td>\n",
              "      <td>103904.000000</td>\n",
              "      <td>103904.000000</td>\n",
              "      <td>103594.000000</td>\n",
              "    </tr>\n",
              "    <tr>\n",
              "      <th>mean</th>\n",
              "      <td>51951.500000</td>\n",
              "      <td>64924.210502</td>\n",
              "      <td>39.379706</td>\n",
              "      <td>1189.448375</td>\n",
              "      <td>2.729683</td>\n",
              "      <td>3.060296</td>\n",
              "      <td>2.756901</td>\n",
              "      <td>2.976883</td>\n",
              "      <td>3.202129</td>\n",
              "      <td>3.250375</td>\n",
              "      <td>3.439396</td>\n",
              "      <td>3.358158</td>\n",
              "      <td>3.382363</td>\n",
              "      <td>3.351055</td>\n",
              "      <td>3.631833</td>\n",
              "      <td>3.304290</td>\n",
              "      <td>3.640428</td>\n",
              "      <td>3.286351</td>\n",
              "      <td>14.815618</td>\n",
              "      <td>15.178678</td>\n",
              "    </tr>\n",
              "    <tr>\n",
              "      <th>std</th>\n",
              "      <td>29994.645522</td>\n",
              "      <td>37463.812252</td>\n",
              "      <td>15.114964</td>\n",
              "      <td>997.147281</td>\n",
              "      <td>1.327829</td>\n",
              "      <td>1.525075</td>\n",
              "      <td>1.398929</td>\n",
              "      <td>1.277621</td>\n",
              "      <td>1.329533</td>\n",
              "      <td>1.349509</td>\n",
              "      <td>1.319088</td>\n",
              "      <td>1.332991</td>\n",
              "      <td>1.288354</td>\n",
              "      <td>1.315605</td>\n",
              "      <td>1.180903</td>\n",
              "      <td>1.265396</td>\n",
              "      <td>1.175663</td>\n",
              "      <td>1.312273</td>\n",
              "      <td>38.230901</td>\n",
              "      <td>38.698682</td>\n",
              "    </tr>\n",
              "    <tr>\n",
              "      <th>min</th>\n",
              "      <td>0.000000</td>\n",
              "      <td>1.000000</td>\n",
              "      <td>7.000000</td>\n",
              "      <td>31.000000</td>\n",
              "      <td>0.000000</td>\n",
              "      <td>0.000000</td>\n",
              "      <td>0.000000</td>\n",
              "      <td>0.000000</td>\n",
              "      <td>0.000000</td>\n",
              "      <td>0.000000</td>\n",
              "      <td>0.000000</td>\n",
              "      <td>0.000000</td>\n",
              "      <td>0.000000</td>\n",
              "      <td>0.000000</td>\n",
              "      <td>1.000000</td>\n",
              "      <td>0.000000</td>\n",
              "      <td>0.000000</td>\n",
              "      <td>0.000000</td>\n",
              "      <td>0.000000</td>\n",
              "      <td>0.000000</td>\n",
              "    </tr>\n",
              "    <tr>\n",
              "      <th>25%</th>\n",
              "      <td>25975.750000</td>\n",
              "      <td>32533.750000</td>\n",
              "      <td>27.000000</td>\n",
              "      <td>414.000000</td>\n",
              "      <td>2.000000</td>\n",
              "      <td>2.000000</td>\n",
              "      <td>2.000000</td>\n",
              "      <td>2.000000</td>\n",
              "      <td>2.000000</td>\n",
              "      <td>2.000000</td>\n",
              "      <td>2.000000</td>\n",
              "      <td>2.000000</td>\n",
              "      <td>2.000000</td>\n",
              "      <td>2.000000</td>\n",
              "      <td>3.000000</td>\n",
              "      <td>3.000000</td>\n",
              "      <td>3.000000</td>\n",
              "      <td>2.000000</td>\n",
              "      <td>0.000000</td>\n",
              "      <td>0.000000</td>\n",
              "    </tr>\n",
              "    <tr>\n",
              "      <th>50%</th>\n",
              "      <td>51951.500000</td>\n",
              "      <td>64856.500000</td>\n",
              "      <td>40.000000</td>\n",
              "      <td>843.000000</td>\n",
              "      <td>3.000000</td>\n",
              "      <td>3.000000</td>\n",
              "      <td>3.000000</td>\n",
              "      <td>3.000000</td>\n",
              "      <td>3.000000</td>\n",
              "      <td>3.000000</td>\n",
              "      <td>4.000000</td>\n",
              "      <td>4.000000</td>\n",
              "      <td>4.000000</td>\n",
              "      <td>4.000000</td>\n",
              "      <td>4.000000</td>\n",
              "      <td>3.000000</td>\n",
              "      <td>4.000000</td>\n",
              "      <td>3.000000</td>\n",
              "      <td>0.000000</td>\n",
              "      <td>0.000000</td>\n",
              "    </tr>\n",
              "    <tr>\n",
              "      <th>75%</th>\n",
              "      <td>77927.250000</td>\n",
              "      <td>97368.250000</td>\n",
              "      <td>51.000000</td>\n",
              "      <td>1743.000000</td>\n",
              "      <td>4.000000</td>\n",
              "      <td>4.000000</td>\n",
              "      <td>4.000000</td>\n",
              "      <td>4.000000</td>\n",
              "      <td>4.000000</td>\n",
              "      <td>4.000000</td>\n",
              "      <td>5.000000</td>\n",
              "      <td>4.000000</td>\n",
              "      <td>4.000000</td>\n",
              "      <td>4.000000</td>\n",
              "      <td>5.000000</td>\n",
              "      <td>4.000000</td>\n",
              "      <td>5.000000</td>\n",
              "      <td>4.000000</td>\n",
              "      <td>12.000000</td>\n",
              "      <td>13.000000</td>\n",
              "    </tr>\n",
              "    <tr>\n",
              "      <th>max</th>\n",
              "      <td>103903.000000</td>\n",
              "      <td>129880.000000</td>\n",
              "      <td>85.000000</td>\n",
              "      <td>4983.000000</td>\n",
              "      <td>5.000000</td>\n",
              "      <td>5.000000</td>\n",
              "      <td>5.000000</td>\n",
              "      <td>5.000000</td>\n",
              "      <td>5.000000</td>\n",
              "      <td>5.000000</td>\n",
              "      <td>5.000000</td>\n",
              "      <td>5.000000</td>\n",
              "      <td>5.000000</td>\n",
              "      <td>5.000000</td>\n",
              "      <td>5.000000</td>\n",
              "      <td>5.000000</td>\n",
              "      <td>5.000000</td>\n",
              "      <td>5.000000</td>\n",
              "      <td>1592.000000</td>\n",
              "      <td>1584.000000</td>\n",
              "    </tr>\n",
              "  </tbody>\n",
              "</table>\n",
              "</div>\n",
              "    <div class=\"colab-df-buttons\">\n",
              "\n",
              "  <div class=\"colab-df-container\">\n",
              "    <button class=\"colab-df-convert\" onclick=\"convertToInteractive('df-f655db86-11f5-4d14-9324-bfd925031547')\"\n",
              "            title=\"Convert this dataframe to an interactive table.\"\n",
              "            style=\"display:none;\">\n",
              "\n",
              "  <svg xmlns=\"http://www.w3.org/2000/svg\" height=\"24px\" viewBox=\"0 -960 960 960\">\n",
              "    <path d=\"M120-120v-720h720v720H120Zm60-500h600v-160H180v160Zm220 220h160v-160H400v160Zm0 220h160v-160H400v160ZM180-400h160v-160H180v160Zm440 0h160v-160H620v160ZM180-180h160v-160H180v160Zm440 0h160v-160H620v160Z\"/>\n",
              "  </svg>\n",
              "    </button>\n",
              "\n",
              "  <style>\n",
              "    .colab-df-container {\n",
              "      display:flex;\n",
              "      gap: 12px;\n",
              "    }\n",
              "\n",
              "    .colab-df-convert {\n",
              "      background-color: #E8F0FE;\n",
              "      border: none;\n",
              "      border-radius: 50%;\n",
              "      cursor: pointer;\n",
              "      display: none;\n",
              "      fill: #1967D2;\n",
              "      height: 32px;\n",
              "      padding: 0 0 0 0;\n",
              "      width: 32px;\n",
              "    }\n",
              "\n",
              "    .colab-df-convert:hover {\n",
              "      background-color: #E2EBFA;\n",
              "      box-shadow: 0px 1px 2px rgba(60, 64, 67, 0.3), 0px 1px 3px 1px rgba(60, 64, 67, 0.15);\n",
              "      fill: #174EA6;\n",
              "    }\n",
              "\n",
              "    .colab-df-buttons div {\n",
              "      margin-bottom: 4px;\n",
              "    }\n",
              "\n",
              "    [theme=dark] .colab-df-convert {\n",
              "      background-color: #3B4455;\n",
              "      fill: #D2E3FC;\n",
              "    }\n",
              "\n",
              "    [theme=dark] .colab-df-convert:hover {\n",
              "      background-color: #434B5C;\n",
              "      box-shadow: 0px 1px 3px 1px rgba(0, 0, 0, 0.15);\n",
              "      filter: drop-shadow(0px 1px 2px rgba(0, 0, 0, 0.3));\n",
              "      fill: #FFFFFF;\n",
              "    }\n",
              "  </style>\n",
              "\n",
              "    <script>\n",
              "      const buttonEl =\n",
              "        document.querySelector('#df-f655db86-11f5-4d14-9324-bfd925031547 button.colab-df-convert');\n",
              "      buttonEl.style.display =\n",
              "        google.colab.kernel.accessAllowed ? 'block' : 'none';\n",
              "\n",
              "      async function convertToInteractive(key) {\n",
              "        const element = document.querySelector('#df-f655db86-11f5-4d14-9324-bfd925031547');\n",
              "        const dataTable =\n",
              "          await google.colab.kernel.invokeFunction('convertToInteractive',\n",
              "                                                    [key], {});\n",
              "        if (!dataTable) return;\n",
              "\n",
              "        const docLinkHtml = 'Like what you see? Visit the ' +\n",
              "          '<a target=\"_blank\" href=https://colab.research.google.com/notebooks/data_table.ipynb>data table notebook</a>'\n",
              "          + ' to learn more about interactive tables.';\n",
              "        element.innerHTML = '';\n",
              "        dataTable['output_type'] = 'display_data';\n",
              "        await google.colab.output.renderOutput(dataTable, element);\n",
              "        const docLink = document.createElement('div');\n",
              "        docLink.innerHTML = docLinkHtml;\n",
              "        element.appendChild(docLink);\n",
              "      }\n",
              "    </script>\n",
              "  </div>\n",
              "\n",
              "\n",
              "<div id=\"df-ec345575-a70c-4fc4-bbaa-33e2424b8700\">\n",
              "  <button class=\"colab-df-quickchart\" onclick=\"quickchart('df-ec345575-a70c-4fc4-bbaa-33e2424b8700')\"\n",
              "            title=\"Suggest charts\"\n",
              "            style=\"display:none;\">\n",
              "\n",
              "<svg xmlns=\"http://www.w3.org/2000/svg\" height=\"24px\"viewBox=\"0 0 24 24\"\n",
              "     width=\"24px\">\n",
              "    <g>\n",
              "        <path d=\"M19 3H5c-1.1 0-2 .9-2 2v14c0 1.1.9 2 2 2h14c1.1 0 2-.9 2-2V5c0-1.1-.9-2-2-2zM9 17H7v-7h2v7zm4 0h-2V7h2v10zm4 0h-2v-4h2v4z\"/>\n",
              "    </g>\n",
              "</svg>\n",
              "  </button>\n",
              "\n",
              "<style>\n",
              "  .colab-df-quickchart {\n",
              "      --bg-color: #E8F0FE;\n",
              "      --fill-color: #1967D2;\n",
              "      --hover-bg-color: #E2EBFA;\n",
              "      --hover-fill-color: #174EA6;\n",
              "      --disabled-fill-color: #AAA;\n",
              "      --disabled-bg-color: #DDD;\n",
              "  }\n",
              "\n",
              "  [theme=dark] .colab-df-quickchart {\n",
              "      --bg-color: #3B4455;\n",
              "      --fill-color: #D2E3FC;\n",
              "      --hover-bg-color: #434B5C;\n",
              "      --hover-fill-color: #FFFFFF;\n",
              "      --disabled-bg-color: #3B4455;\n",
              "      --disabled-fill-color: #666;\n",
              "  }\n",
              "\n",
              "  .colab-df-quickchart {\n",
              "    background-color: var(--bg-color);\n",
              "    border: none;\n",
              "    border-radius: 50%;\n",
              "    cursor: pointer;\n",
              "    display: none;\n",
              "    fill: var(--fill-color);\n",
              "    height: 32px;\n",
              "    padding: 0;\n",
              "    width: 32px;\n",
              "  }\n",
              "\n",
              "  .colab-df-quickchart:hover {\n",
              "    background-color: var(--hover-bg-color);\n",
              "    box-shadow: 0 1px 2px rgba(60, 64, 67, 0.3), 0 1px 3px 1px rgba(60, 64, 67, 0.15);\n",
              "    fill: var(--button-hover-fill-color);\n",
              "  }\n",
              "\n",
              "  .colab-df-quickchart-complete:disabled,\n",
              "  .colab-df-quickchart-complete:disabled:hover {\n",
              "    background-color: var(--disabled-bg-color);\n",
              "    fill: var(--disabled-fill-color);\n",
              "    box-shadow: none;\n",
              "  }\n",
              "\n",
              "  .colab-df-spinner {\n",
              "    border: 2px solid var(--fill-color);\n",
              "    border-color: transparent;\n",
              "    border-bottom-color: var(--fill-color);\n",
              "    animation:\n",
              "      spin 1s steps(1) infinite;\n",
              "  }\n",
              "\n",
              "  @keyframes spin {\n",
              "    0% {\n",
              "      border-color: transparent;\n",
              "      border-bottom-color: var(--fill-color);\n",
              "      border-left-color: var(--fill-color);\n",
              "    }\n",
              "    20% {\n",
              "      border-color: transparent;\n",
              "      border-left-color: var(--fill-color);\n",
              "      border-top-color: var(--fill-color);\n",
              "    }\n",
              "    30% {\n",
              "      border-color: transparent;\n",
              "      border-left-color: var(--fill-color);\n",
              "      border-top-color: var(--fill-color);\n",
              "      border-right-color: var(--fill-color);\n",
              "    }\n",
              "    40% {\n",
              "      border-color: transparent;\n",
              "      border-right-color: var(--fill-color);\n",
              "      border-top-color: var(--fill-color);\n",
              "    }\n",
              "    60% {\n",
              "      border-color: transparent;\n",
              "      border-right-color: var(--fill-color);\n",
              "    }\n",
              "    80% {\n",
              "      border-color: transparent;\n",
              "      border-right-color: var(--fill-color);\n",
              "      border-bottom-color: var(--fill-color);\n",
              "    }\n",
              "    90% {\n",
              "      border-color: transparent;\n",
              "      border-bottom-color: var(--fill-color);\n",
              "    }\n",
              "  }\n",
              "</style>\n",
              "\n",
              "  <script>\n",
              "    async function quickchart(key) {\n",
              "      const quickchartButtonEl =\n",
              "        document.querySelector('#' + key + ' button');\n",
              "      quickchartButtonEl.disabled = true;  // To prevent multiple clicks.\n",
              "      quickchartButtonEl.classList.add('colab-df-spinner');\n",
              "      try {\n",
              "        const charts = await google.colab.kernel.invokeFunction(\n",
              "            'suggestCharts', [key], {});\n",
              "      } catch (error) {\n",
              "        console.error('Error during call to suggestCharts:', error);\n",
              "      }\n",
              "      quickchartButtonEl.classList.remove('colab-df-spinner');\n",
              "      quickchartButtonEl.classList.add('colab-df-quickchart-complete');\n",
              "    }\n",
              "    (() => {\n",
              "      let quickchartButtonEl =\n",
              "        document.querySelector('#df-ec345575-a70c-4fc4-bbaa-33e2424b8700 button');\n",
              "      quickchartButtonEl.style.display =\n",
              "        google.colab.kernel.accessAllowed ? 'block' : 'none';\n",
              "    })();\n",
              "  </script>\n",
              "</div>\n",
              "\n",
              "    </div>\n",
              "  </div>\n"
            ],
            "application/vnd.google.colaboratory.intrinsic+json": {
              "type": "dataframe",
              "summary": "{\n  \"name\": \"travelsat\",\n  \"rows\": 8,\n  \"fields\": [\n    {\n      \"column\": \"Unnamed: 0\",\n      \"properties\": {\n        \"dtype\": \"number\",\n        \"std\": 37447.28533294634,\n        \"min\": 0.0,\n        \"max\": 103904.0,\n        \"num_unique_values\": 7,\n        \"samples\": [\n          103904.0,\n          51951.5,\n          77927.25\n        ],\n        \"semantic_type\": \"\",\n        \"description\": \"\"\n      }\n    },\n    {\n      \"column\": \"id\",\n      \"properties\": {\n        \"dtype\": \"number\",\n        \"std\": 42749.93285279088,\n        \"min\": 1.0,\n        \"max\": 129880.0,\n        \"num_unique_values\": 8,\n        \"samples\": [\n          64924.21050200185,\n          64856.5,\n          103904.0\n        ],\n        \"semantic_type\": \"\",\n        \"description\": \"\"\n      }\n    },\n    {\n      \"column\": \"Age\",\n      \"properties\": {\n        \"dtype\": \"number\",\n        \"std\": 36722.260257617825,\n        \"min\": 7.0,\n        \"max\": 103904.0,\n        \"num_unique_values\": 8,\n        \"samples\": [\n          39.379706267323684,\n          40.0,\n          103904.0\n        ],\n        \"semantic_type\": \"\",\n        \"description\": \"\"\n      }\n    },\n    {\n      \"column\": \"Flight Distance\",\n      \"properties\": {\n        \"dtype\": \"number\",\n        \"std\": 36252.525638933694,\n        \"min\": 31.0,\n        \"max\": 103904.0,\n        \"num_unique_values\": 8,\n        \"samples\": [\n          1189.4483754234677,\n          843.0,\n          103904.0\n        ],\n        \"semantic_type\": \"\",\n        \"description\": \"\"\n      }\n    },\n    {\n      \"column\": \"Inflight wifi service\",\n      \"properties\": {\n        \"dtype\": \"number\",\n        \"std\": 36734.69948642707,\n        \"min\": 0.0,\n        \"max\": 103904.0,\n        \"num_unique_values\": 8,\n        \"samples\": [\n          2.72968316907915,\n          3.0,\n          103904.0\n        ],\n        \"semantic_type\": \"\",\n        \"description\": \"\"\n      }\n    },\n    {\n      \"column\": \"Departure/Arrival time convenient\",\n      \"properties\": {\n        \"dtype\": \"number\",\n        \"std\": 36734.672824985195,\n        \"min\": 0.0,\n        \"max\": 103904.0,\n        \"num_unique_values\": 8,\n        \"samples\": [\n          3.06029604250077,\n          3.0,\n          103904.0\n        ],\n        \"semantic_type\": \"\",\n        \"description\": \"\"\n      }\n    },\n    {\n      \"column\": \"Ease of Online booking\",\n      \"properties\": {\n        \"dtype\": \"number\",\n        \"std\": 36734.69452032516,\n        \"min\": 0.0,\n        \"max\": 103904.0,\n        \"num_unique_values\": 8,\n        \"samples\": [\n          2.7569006005543577,\n          3.0,\n          103904.0\n        ],\n        \"semantic_type\": \"\",\n        \"description\": \"\"\n      }\n    },\n    {\n      \"column\": \"Gate location\",\n      \"properties\": {\n        \"dtype\": \"number\",\n        \"std\": 36734.689537386905,\n        \"min\": 0.0,\n        \"max\": 103904.0,\n        \"num_unique_values\": 8,\n        \"samples\": [\n          2.9768825069294733,\n          3.0,\n          103904.0\n        ],\n        \"semantic_type\": \"\",\n        \"description\": \"\"\n      }\n    },\n    {\n      \"column\": \"Food and drink\",\n      \"properties\": {\n        \"dtype\": \"number\",\n        \"std\": 36734.675538927164,\n        \"min\": 0.0,\n        \"max\": 103904.0,\n        \"num_unique_values\": 8,\n        \"samples\": [\n          3.2021288882044963,\n          3.0,\n          103904.0\n        ],\n        \"semantic_type\": \"\",\n        \"description\": \"\"\n      }\n    },\n    {\n      \"column\": \"Online boarding\",\n      \"properties\": {\n        \"dtype\": \"number\",\n        \"std\": 36734.67209316613,\n        \"min\": 0.0,\n        \"max\": 103904.0,\n        \"num_unique_values\": 8,\n        \"samples\": [\n          3.250375346473668,\n          3.0,\n          103904.0\n        ],\n        \"semantic_type\": \"\",\n        \"description\": \"\"\n      }\n    },\n    {\n      \"column\": \"Seat comfort\",\n      \"properties\": {\n        \"dtype\": \"number\",\n        \"std\": 36734.56307725489,\n        \"min\": 0.0,\n        \"max\": 103904.0,\n        \"num_unique_values\": 7,\n        \"samples\": [\n          103904.0,\n          3.4393959809054513,\n          4.0\n        ],\n        \"semantic_type\": \"\",\n        \"description\": \"\"\n      }\n    },\n    {\n      \"column\": \"Inflight entertainment\",\n      \"properties\": {\n        \"dtype\": \"number\",\n        \"std\": 36734.6169793165,\n        \"min\": 0.0,\n        \"max\": 103904.0,\n        \"num_unique_values\": 7,\n        \"samples\": [\n          103904.0,\n          3.358157530027718,\n          4.0\n        ],\n        \"semantic_type\": \"\",\n        \"description\": \"\"\n      }\n    },\n    {\n      \"column\": \"On-board service\",\n      \"properties\": {\n        \"dtype\": \"number\",\n        \"std\": 36734.618011567036,\n        \"min\": 0.0,\n        \"max\": 103904.0,\n        \"num_unique_values\": 7,\n        \"samples\": [\n          103904.0,\n          3.382362565445026,\n          4.0\n        ],\n        \"semantic_type\": \"\",\n        \"description\": \"\"\n      }\n    },\n    {\n      \"column\": \"Leg room service\",\n      \"properties\": {\n        \"dtype\": \"number\",\n        \"std\": 36734.61821627349,\n        \"min\": 0.0,\n        \"max\": 103904.0,\n        \"num_unique_values\": 7,\n        \"samples\": [\n          103904.0,\n          3.3510548198336925,\n          4.0\n        ],\n        \"semantic_type\": \"\",\n        \"description\": \"\"\n      }\n    },\n    {\n      \"column\": \"Baggage handling\",\n      \"properties\": {\n        \"dtype\": \"number\",\n        \"std\": 36734.45931058102,\n        \"min\": 1.0,\n        \"max\": 103904.0,\n        \"num_unique_values\": 7,\n        \"samples\": [\n          103904.0,\n          3.6318332306744687,\n          4.0\n        ],\n        \"semantic_type\": \"\",\n        \"description\": \"\"\n      }\n    },\n    {\n      \"column\": \"Checkin service\",\n      \"properties\": {\n        \"dtype\": \"number\",\n        \"std\": 36734.6231104662,\n        \"min\": 0.0,\n        \"max\": 103904.0,\n        \"num_unique_values\": 7,\n        \"samples\": [\n          103904.0,\n          3.304290498922082,\n          4.0\n        ],\n        \"semantic_type\": \"\",\n        \"description\": \"\"\n      }\n    },\n    {\n      \"column\": \"Inflight service\",\n      \"properties\": {\n        \"dtype\": \"number\",\n        \"std\": 36734.50965930927,\n        \"min\": 0.0,\n        \"max\": 103904.0,\n        \"num_unique_values\": 7,\n        \"samples\": [\n          103904.0,\n          3.6404277024946103,\n          4.0\n        ],\n        \"semantic_type\": \"\",\n        \"description\": \"\"\n      }\n    },\n    {\n      \"column\": \"Cleanliness\",\n      \"properties\": {\n        \"dtype\": \"number\",\n        \"std\": 36734.67215711315,\n        \"min\": 0.0,\n        \"max\": 103904.0,\n        \"num_unique_values\": 8,\n        \"samples\": [\n          3.2863508623344626,\n          3.0,\n          103904.0\n        ],\n        \"semantic_type\": \"\",\n        \"description\": \"\"\n      }\n    },\n    {\n      \"column\": \"Departure Delay in Minutes\",\n      \"properties\": {\n        \"dtype\": \"number\",\n        \"std\": 36656.09613563621,\n        \"min\": 0.0,\n        \"max\": 103904.0,\n        \"num_unique_values\": 6,\n        \"samples\": [\n          103904.0,\n          14.815618263012011,\n          1592.0\n        ],\n        \"semantic_type\": \"\",\n        \"description\": \"\"\n      }\n    },\n    {\n      \"column\": \"Arrival Delay in Minutes\",\n      \"properties\": {\n        \"dtype\": \"number\",\n        \"std\": 36546.774848241876,\n        \"min\": 0.0,\n        \"max\": 103594.0,\n        \"num_unique_values\": 6,\n        \"samples\": [\n          103594.0,\n          15.178678301832152,\n          1584.0\n        ],\n        \"semantic_type\": \"\",\n        \"description\": \"\"\n      }\n    }\n  ]\n}"
            }
          },
          "metadata": {},
          "execution_count": 6
        }
      ]
    },
    {
      "cell_type": "code",
      "source": [
        "travelsat.info()"
      ],
      "metadata": {
        "colab": {
          "base_uri": "https://localhost:8080/"
        },
        "id": "i1uuLut1P7Vl",
        "outputId": "aacf9cba-cc50-464c-e69c-c052dc211fdd"
      },
      "execution_count": null,
      "outputs": [
        {
          "output_type": "stream",
          "name": "stdout",
          "text": [
            "<class 'pandas.core.frame.DataFrame'>\n",
            "RangeIndex: 103904 entries, 0 to 103903\n",
            "Data columns (total 25 columns):\n",
            " #   Column                             Non-Null Count   Dtype  \n",
            "---  ------                             --------------   -----  \n",
            " 0   Unnamed: 0                         103904 non-null  int64  \n",
            " 1   id                                 103904 non-null  int64  \n",
            " 2   Gender                             103904 non-null  object \n",
            " 3   Customer Type                      103904 non-null  object \n",
            " 4   Age                                103904 non-null  int64  \n",
            " 5   Type of Travel                     103904 non-null  object \n",
            " 6   Class                              103904 non-null  object \n",
            " 7   Flight Distance                    103904 non-null  int64  \n",
            " 8   Inflight wifi service              103904 non-null  int64  \n",
            " 9   Departure/Arrival time convenient  103904 non-null  int64  \n",
            " 10  Ease of Online booking             103904 non-null  int64  \n",
            " 11  Gate location                      103904 non-null  int64  \n",
            " 12  Food and drink                     103904 non-null  int64  \n",
            " 13  Online boarding                    103904 non-null  int64  \n",
            " 14  Seat comfort                       103904 non-null  int64  \n",
            " 15  Inflight entertainment             103904 non-null  int64  \n",
            " 16  On-board service                   103904 non-null  int64  \n",
            " 17  Leg room service                   103904 non-null  int64  \n",
            " 18  Baggage handling                   103904 non-null  int64  \n",
            " 19  Checkin service                    103904 non-null  int64  \n",
            " 20  Inflight service                   103904 non-null  int64  \n",
            " 21  Cleanliness                        103904 non-null  int64  \n",
            " 22  Departure Delay in Minutes         103904 non-null  int64  \n",
            " 23  Arrival Delay in Minutes           103594 non-null  float64\n",
            " 24  satisfaction                       103904 non-null  object \n",
            "dtypes: float64(1), int64(19), object(5)\n",
            "memory usage: 19.8+ MB\n"
          ]
        }
      ]
    },
    {
      "cell_type": "markdown",
      "source": [
        "El dataset contiene 25 columnas, de las cuales 5 no son numéricas. No todas las columnas están relacionadas con servicios que la empresa puede brindar o mejorar. Esto será parte del análisis, tomando en cuenta el efecto que esas columnas tienen en la respuesta, pero también enfocando los resultados particulamente en aquellas variables que pueden ser recomendadas para mejora."
      ],
      "metadata": {
        "id": "B1OhPkvbZ0Ph"
      }
    },
    {
      "cell_type": "markdown",
      "source": [
        "**Datos nulos**"
      ],
      "metadata": {
        "id": "qNU9byRTbAZJ"
      }
    },
    {
      "cell_type": "markdown",
      "source": [
        "Se verificación datos nulos en todas las columnas"
      ],
      "metadata": {
        "id": "LCDiqSiWT9MI"
      }
    },
    {
      "cell_type": "code",
      "source": [
        "contar_datos_nulos = travelsat.isnull().sum()"
      ],
      "metadata": {
        "id": "Iwz0MZTLU9ls"
      },
      "execution_count": null,
      "outputs": []
    },
    {
      "cell_type": "code",
      "source": [
        "contar_datos_nulos"
      ],
      "metadata": {
        "colab": {
          "base_uri": "https://localhost:8080/",
          "height": 868
        },
        "id": "BtVvEt5fVFWf",
        "outputId": "7cf42283-33c7-4bcc-839b-e9eed24cb62e"
      },
      "execution_count": null,
      "outputs": [
        {
          "output_type": "execute_result",
          "data": {
            "text/plain": [
              "Unnamed: 0                             0\n",
              "id                                     0\n",
              "Gender                                 0\n",
              "Customer Type                          0\n",
              "Age                                    0\n",
              "Type of Travel                         0\n",
              "Class                                  0\n",
              "Flight Distance                        0\n",
              "Inflight wifi service                  0\n",
              "Departure/Arrival time convenient      0\n",
              "Ease of Online booking                 0\n",
              "Gate location                          0\n",
              "Food and drink                         0\n",
              "Online boarding                        0\n",
              "Seat comfort                           0\n",
              "Inflight entertainment                 0\n",
              "On-board service                       0\n",
              "Leg room service                       0\n",
              "Baggage handling                       0\n",
              "Checkin service                        0\n",
              "Inflight service                       0\n",
              "Cleanliness                            0\n",
              "Departure Delay in Minutes             0\n",
              "Arrival Delay in Minutes             310\n",
              "satisfaction                           0\n",
              "dtype: int64"
            ],
            "text/html": [
              "<div>\n",
              "<style scoped>\n",
              "    .dataframe tbody tr th:only-of-type {\n",
              "        vertical-align: middle;\n",
              "    }\n",
              "\n",
              "    .dataframe tbody tr th {\n",
              "        vertical-align: top;\n",
              "    }\n",
              "\n",
              "    .dataframe thead th {\n",
              "        text-align: right;\n",
              "    }\n",
              "</style>\n",
              "<table border=\"1\" class=\"dataframe\">\n",
              "  <thead>\n",
              "    <tr style=\"text-align: right;\">\n",
              "      <th></th>\n",
              "      <th>0</th>\n",
              "    </tr>\n",
              "  </thead>\n",
              "  <tbody>\n",
              "    <tr>\n",
              "      <th>Unnamed: 0</th>\n",
              "      <td>0</td>\n",
              "    </tr>\n",
              "    <tr>\n",
              "      <th>id</th>\n",
              "      <td>0</td>\n",
              "    </tr>\n",
              "    <tr>\n",
              "      <th>Gender</th>\n",
              "      <td>0</td>\n",
              "    </tr>\n",
              "    <tr>\n",
              "      <th>Customer Type</th>\n",
              "      <td>0</td>\n",
              "    </tr>\n",
              "    <tr>\n",
              "      <th>Age</th>\n",
              "      <td>0</td>\n",
              "    </tr>\n",
              "    <tr>\n",
              "      <th>Type of Travel</th>\n",
              "      <td>0</td>\n",
              "    </tr>\n",
              "    <tr>\n",
              "      <th>Class</th>\n",
              "      <td>0</td>\n",
              "    </tr>\n",
              "    <tr>\n",
              "      <th>Flight Distance</th>\n",
              "      <td>0</td>\n",
              "    </tr>\n",
              "    <tr>\n",
              "      <th>Inflight wifi service</th>\n",
              "      <td>0</td>\n",
              "    </tr>\n",
              "    <tr>\n",
              "      <th>Departure/Arrival time convenient</th>\n",
              "      <td>0</td>\n",
              "    </tr>\n",
              "    <tr>\n",
              "      <th>Ease of Online booking</th>\n",
              "      <td>0</td>\n",
              "    </tr>\n",
              "    <tr>\n",
              "      <th>Gate location</th>\n",
              "      <td>0</td>\n",
              "    </tr>\n",
              "    <tr>\n",
              "      <th>Food and drink</th>\n",
              "      <td>0</td>\n",
              "    </tr>\n",
              "    <tr>\n",
              "      <th>Online boarding</th>\n",
              "      <td>0</td>\n",
              "    </tr>\n",
              "    <tr>\n",
              "      <th>Seat comfort</th>\n",
              "      <td>0</td>\n",
              "    </tr>\n",
              "    <tr>\n",
              "      <th>Inflight entertainment</th>\n",
              "      <td>0</td>\n",
              "    </tr>\n",
              "    <tr>\n",
              "      <th>On-board service</th>\n",
              "      <td>0</td>\n",
              "    </tr>\n",
              "    <tr>\n",
              "      <th>Leg room service</th>\n",
              "      <td>0</td>\n",
              "    </tr>\n",
              "    <tr>\n",
              "      <th>Baggage handling</th>\n",
              "      <td>0</td>\n",
              "    </tr>\n",
              "    <tr>\n",
              "      <th>Checkin service</th>\n",
              "      <td>0</td>\n",
              "    </tr>\n",
              "    <tr>\n",
              "      <th>Inflight service</th>\n",
              "      <td>0</td>\n",
              "    </tr>\n",
              "    <tr>\n",
              "      <th>Cleanliness</th>\n",
              "      <td>0</td>\n",
              "    </tr>\n",
              "    <tr>\n",
              "      <th>Departure Delay in Minutes</th>\n",
              "      <td>0</td>\n",
              "    </tr>\n",
              "    <tr>\n",
              "      <th>Arrival Delay in Minutes</th>\n",
              "      <td>310</td>\n",
              "    </tr>\n",
              "    <tr>\n",
              "      <th>satisfaction</th>\n",
              "      <td>0</td>\n",
              "    </tr>\n",
              "  </tbody>\n",
              "</table>\n",
              "</div><br><label><b>dtype:</b> int64</label>"
            ]
          },
          "metadata": {},
          "execution_count": 9
        }
      ]
    },
    {
      "cell_type": "markdown",
      "source": [
        "Se encontraron valores nulos en la columna \"Arrival Delay in Minutes\" que deben ser reemplazados"
      ],
      "metadata": {
        "id": "77uFG88QrYjC"
      }
    },
    {
      "cell_type": "code",
      "source": [
        "# Se decide reemplazar lo valores nulos en la columna Arrival Delay por la mediana:\n",
        "valores = travelsat.values #numpy array con los valores\n",
        "imputador = SimpleImputer(missing_values=np.nan, strategy='median') #definir el imputador\n",
        "# transformar solo la columna que tiene valores nulos\n",
        "travelsat['Arrival Delay in Minutes'] = imputador.fit_transform(travelsat[['Arrival Delay in Minutes']])\n",
        "\n"
      ],
      "metadata": {
        "id": "HysjFY8nWkVT"
      },
      "execution_count": null,
      "outputs": []
    },
    {
      "cell_type": "code",
      "source": [
        "#confirmación de que no haya datos nulos luego del reemplazo\n",
        "contar_datos_nulos = travelsat.isnull().sum()\n",
        "contar_datos_nulos"
      ],
      "metadata": {
        "colab": {
          "base_uri": "https://localhost:8080/",
          "height": 868
        },
        "id": "H4XVq7hmlYqZ",
        "outputId": "4455c5d0-53f3-4ad3-d306-0a75ee5ce60e"
      },
      "execution_count": null,
      "outputs": [
        {
          "output_type": "execute_result",
          "data": {
            "text/plain": [
              "Unnamed: 0                           0\n",
              "id                                   0\n",
              "Gender                               0\n",
              "Customer Type                        0\n",
              "Age                                  0\n",
              "Type of Travel                       0\n",
              "Class                                0\n",
              "Flight Distance                      0\n",
              "Inflight wifi service                0\n",
              "Departure/Arrival time convenient    0\n",
              "Ease of Online booking               0\n",
              "Gate location                        0\n",
              "Food and drink                       0\n",
              "Online boarding                      0\n",
              "Seat comfort                         0\n",
              "Inflight entertainment               0\n",
              "On-board service                     0\n",
              "Leg room service                     0\n",
              "Baggage handling                     0\n",
              "Checkin service                      0\n",
              "Inflight service                     0\n",
              "Cleanliness                          0\n",
              "Departure Delay in Minutes           0\n",
              "Arrival Delay in Minutes             0\n",
              "satisfaction                         0\n",
              "dtype: int64"
            ],
            "text/html": [
              "<div>\n",
              "<style scoped>\n",
              "    .dataframe tbody tr th:only-of-type {\n",
              "        vertical-align: middle;\n",
              "    }\n",
              "\n",
              "    .dataframe tbody tr th {\n",
              "        vertical-align: top;\n",
              "    }\n",
              "\n",
              "    .dataframe thead th {\n",
              "        text-align: right;\n",
              "    }\n",
              "</style>\n",
              "<table border=\"1\" class=\"dataframe\">\n",
              "  <thead>\n",
              "    <tr style=\"text-align: right;\">\n",
              "      <th></th>\n",
              "      <th>0</th>\n",
              "    </tr>\n",
              "  </thead>\n",
              "  <tbody>\n",
              "    <tr>\n",
              "      <th>Unnamed: 0</th>\n",
              "      <td>0</td>\n",
              "    </tr>\n",
              "    <tr>\n",
              "      <th>id</th>\n",
              "      <td>0</td>\n",
              "    </tr>\n",
              "    <tr>\n",
              "      <th>Gender</th>\n",
              "      <td>0</td>\n",
              "    </tr>\n",
              "    <tr>\n",
              "      <th>Customer Type</th>\n",
              "      <td>0</td>\n",
              "    </tr>\n",
              "    <tr>\n",
              "      <th>Age</th>\n",
              "      <td>0</td>\n",
              "    </tr>\n",
              "    <tr>\n",
              "      <th>Type of Travel</th>\n",
              "      <td>0</td>\n",
              "    </tr>\n",
              "    <tr>\n",
              "      <th>Class</th>\n",
              "      <td>0</td>\n",
              "    </tr>\n",
              "    <tr>\n",
              "      <th>Flight Distance</th>\n",
              "      <td>0</td>\n",
              "    </tr>\n",
              "    <tr>\n",
              "      <th>Inflight wifi service</th>\n",
              "      <td>0</td>\n",
              "    </tr>\n",
              "    <tr>\n",
              "      <th>Departure/Arrival time convenient</th>\n",
              "      <td>0</td>\n",
              "    </tr>\n",
              "    <tr>\n",
              "      <th>Ease of Online booking</th>\n",
              "      <td>0</td>\n",
              "    </tr>\n",
              "    <tr>\n",
              "      <th>Gate location</th>\n",
              "      <td>0</td>\n",
              "    </tr>\n",
              "    <tr>\n",
              "      <th>Food and drink</th>\n",
              "      <td>0</td>\n",
              "    </tr>\n",
              "    <tr>\n",
              "      <th>Online boarding</th>\n",
              "      <td>0</td>\n",
              "    </tr>\n",
              "    <tr>\n",
              "      <th>Seat comfort</th>\n",
              "      <td>0</td>\n",
              "    </tr>\n",
              "    <tr>\n",
              "      <th>Inflight entertainment</th>\n",
              "      <td>0</td>\n",
              "    </tr>\n",
              "    <tr>\n",
              "      <th>On-board service</th>\n",
              "      <td>0</td>\n",
              "    </tr>\n",
              "    <tr>\n",
              "      <th>Leg room service</th>\n",
              "      <td>0</td>\n",
              "    </tr>\n",
              "    <tr>\n",
              "      <th>Baggage handling</th>\n",
              "      <td>0</td>\n",
              "    </tr>\n",
              "    <tr>\n",
              "      <th>Checkin service</th>\n",
              "      <td>0</td>\n",
              "    </tr>\n",
              "    <tr>\n",
              "      <th>Inflight service</th>\n",
              "      <td>0</td>\n",
              "    </tr>\n",
              "    <tr>\n",
              "      <th>Cleanliness</th>\n",
              "      <td>0</td>\n",
              "    </tr>\n",
              "    <tr>\n",
              "      <th>Departure Delay in Minutes</th>\n",
              "      <td>0</td>\n",
              "    </tr>\n",
              "    <tr>\n",
              "      <th>Arrival Delay in Minutes</th>\n",
              "      <td>0</td>\n",
              "    </tr>\n",
              "    <tr>\n",
              "      <th>satisfaction</th>\n",
              "      <td>0</td>\n",
              "    </tr>\n",
              "  </tbody>\n",
              "</table>\n",
              "</div><br><label><b>dtype:</b> int64</label>"
            ]
          },
          "metadata": {},
          "execution_count": 11
        }
      ]
    },
    {
      "cell_type": "markdown",
      "source": [
        "Ya no quedan datos nulos en el dataset"
      ],
      "metadata": {
        "id": "6co2Bhpqrhql"
      }
    },
    {
      "cell_type": "markdown",
      "source": [
        "#Primera hipótesis:\n",
        "\n",
        "**Analisis de variables no directamente relacionadas con el servicio**\n",
        "\n",
        "¿Hay una gran diferencia en la satisfacción de los clientes según el tipo de cliente y la edad?\n",
        "\n",
        "Hipotesis: Se espera que estas 2 variables no dependientes del vuelo en particular tengan un impacto importante en la satisfacción o no de los clientes, más allá de las otras categorías que si están relacionadas con la experiencia del vuelo en el que se realizó la encuesta."
      ],
      "metadata": {
        "id": "G7J2XWBrrotV"
      }
    },
    {
      "cell_type": "code",
      "source": [
        "# Graficos utilizando la librería Matplotlib\n",
        "#Se analiza la satisfacción o no de los clientes en general para poder confirmar si hay variación según las categorias analizadas:\n",
        "# Contar la cantidad de clientes satisfechos:\n",
        "frecuencia_sat = travelsat['satisfaction'].value_counts()\n",
        "\n",
        "# Crear un gráfico de torta\n",
        "fig,ax = plt.subplots(figsize =(10, 7))\n",
        "plt.title('Satisfacción de Pasajeros')\n",
        "ax.pie(frecuencia_sat, labels = frecuencia_sat.index, autopct='%1.1f%%', startangle=90)"
      ],
      "metadata": {
        "colab": {
          "base_uri": "https://localhost:8080/",
          "height": 702
        },
        "id": "IC0QpYwDpzEh",
        "outputId": "3d59ffd2-170c-4edf-d82a-94962df52321"
      },
      "execution_count": null,
      "outputs": [
        {
          "output_type": "execute_result",
          "data": {
            "text/plain": [
              "([<matplotlib.patches.Wedge at 0x7db67ee7c4f0>,\n",
              "  <matplotlib.patches.Wedge at 0x7db67f1a70d0>],\n",
              " [Text(-1.0759618925804026, -0.22870506272227162, 'neutral or dissatisfied'),\n",
              "  Text(1.0759618925804026, 0.22870506272227195, 'satisfied')],\n",
              " [Text(-0.5868883050438559, -0.12474821603032996, '56.7%'),\n",
              "  Text(0.5868883050438559, 0.12474821603033014, '43.3%')])"
            ]
          },
          "metadata": {},
          "execution_count": 12
        },
        {
          "output_type": "display_data",
          "data": {
            "text/plain": [
              "<Figure size 1000x700 with 1 Axes>"
            ],
            "image/png": "[encoded data removed]"
          },
          "metadata": {}
        }
      ]
    },
    {
      "cell_type": "code",
      "source": [
        "#Filtrando por cliente loyal y analizar variación\n",
        "travelsat_filtrado = travelsat[travelsat['Customer Type'] == 'Loyal Customer']\n",
        "frecuencia_travelsat_filtrado = travelsat_filtrado['satisfaction'].value_counts()\n",
        "\n",
        "# Crear un gráfico de torta\n",
        "fig,ax = plt.subplots(figsize =(10, 7))\n",
        "plt.title('Satisfacción de Pasajeros Loyal')\n",
        "ax.pie(frecuencia_travelsat_filtrado, labels = frecuencia_travelsat_filtrado.index, autopct='%1.1f%%', startangle=90)\n"
      ],
      "metadata": {
        "colab": {
          "base_uri": "https://localhost:8080/",
          "height": 702
        },
        "id": "QtvYfRebpzBN",
        "outputId": "d479d739-d61b-4e08-efa9-7bc6e06d073c"
      },
      "execution_count": null,
      "outputs": [
        {
          "output_type": "execute_result",
          "data": {
            "text/plain": [
              "([<matplotlib.patches.Wedge at 0x7db67f12d930>,\n",
              "  <matplotlib.patches.Wedge at 0x7db67f12cd60>],\n",
              " [Text(-1.0972018701321677, -0.07840954137395408, 'neutral or dissatisfied'),\n",
              "  Text(1.097201862790932, 0.07840964410140698, 'satisfied')],\n",
              " [Text(-0.5984737473448187, -0.042768840749429486, '52.3%'),\n",
              "  Text(0.5984737433405083, 0.04276889678258562, '47.7%')])"
            ]
          },
          "metadata": {},
          "execution_count": 13
        },
        {
          "output_type": "display_data",
          "data": {
            "text/plain": [
              "<Figure size 1000x700 with 1 Axes>"
            ],
            "image/png": "[encoded data removed]"
          },
          "metadata": {}
        }
      ]
    },
    {
      "cell_type": "markdown",
      "source": [
        "Al analizar la repuesta de satisfacción de los clientes \"loyal\", se ve una pequeña mejora en satisfacción (de alrededor del 4%)."
      ],
      "metadata": {
        "id": "Ui-Td2Q4QYgt"
      }
    },
    {
      "cell_type": "code",
      "source": [
        "#Filtrando por cliente loyal y analizar variación\n",
        "travelsat_filtrado = travelsat[travelsat['Customer Type'] == 'disloyal Customer']\n",
        "frecuencia_travelsat_filtrado = travelsat_filtrado['satisfaction'].value_counts()\n",
        "\n",
        "# Crear un gráfico de torta\n",
        "fig,ax = plt.subplots(figsize =(10, 7))\n",
        "plt.title('Satisfacción de Pasajeros disloyal')\n",
        "ax.pie(frecuencia_travelsat_filtrado, labels = frecuencia_travelsat_filtrado.index, autopct='%1.1f%%', startangle=90)"
      ],
      "metadata": {
        "colab": {
          "base_uri": "https://localhost:8080/",
          "height": 702
        },
        "id": "PhKn6t1PYD4V",
        "outputId": "ffa45359-10ef-4054-c75e-6d39ddd55506"
      },
      "execution_count": null,
      "outputs": [
        {
          "output_type": "execute_result",
          "data": {
            "text/plain": [
              "([<matplotlib.patches.Wedge at 0x7db67b95bd90>,\n",
              "  <matplotlib.patches.Wedge at 0x7db67b959e70>],\n",
              " [Text(-0.7445408556373103, -0.8097276790914723, 'neutral or dissatisfied'),\n",
              "  Text(0.7445409314494841, 0.8097276093825224, 'satisfied')],\n",
              " [Text(-0.4061131939839874, -0.441669643140803, '76.3%'),\n",
              "  Text(0.4061132353360822, 0.4416696051177395, '23.7%')])"
            ]
          },
          "metadata": {},
          "execution_count": 14
        },
        {
          "output_type": "display_data",
          "data": {
            "text/plain": [
              "<Figure size 1000x700 with 1 Axes>"
            ],
            "image/png": "[encoded data removed]"
          },
          "metadata": {}
        }
      ]
    },
    {
      "cell_type": "markdown",
      "source": [
        "Pudimos confirmar la hipótesis al indicar que el tipo de cliente influye en la satisfacción del pasajero.\n",
        "Los clientes \"disloyal\" responden a la encuesta de una forma neutral o negativa en un 24% más que los clientes loyal o un 20% más que las respuestas en general. Se realizarán recomendaciones sobre esta área, y cómo puede afectar las respuestas."
      ],
      "metadata": {
        "id": "yG_CyvmnbRoF"
      }
    },
    {
      "cell_type": "markdown",
      "source": [
        "**Analisis por edad**\n",
        "\n",
        "A continuación, para el analisis de como afecta la edad a las respuestas de los clientes, utilizaremos un histograma.\n"
      ],
      "metadata": {
        "id": "_9azu4AsYQAU"
      }
    },
    {
      "cell_type": "code",
      "source": [
        "# Grafico utilizando la librería Seaborn\n",
        "\n",
        "sns.histplot(data=travelsat, x=\"Age\", hue=\"satisfaction\", multiple=\"stack\", bins=10)"
      ],
      "metadata": {
        "id": "f6JhqkoMaDgr",
        "colab": {
          "base_uri": "https://localhost:8080/",
          "height": 466
        },
        "outputId": "4f0dac9d-77bf-4ab2-f431-4fe0862ff643"
      },
      "execution_count": null,
      "outputs": [
        {
          "output_type": "execute_result",
          "data": {
            "text/plain": [
              "<Axes: xlabel='Age', ylabel='Count'>"
            ]
          },
          "metadata": {},
          "execution_count": 15
        },
        {
          "output_type": "display_data",
          "data": {
            "text/plain": [
              "<Figure size 640x480 with 1 Axes>"
            ],
            "image/png": "[encoded data removed]"
          },
          "metadata": {}
        }
      ]
    },
    {
      "cell_type": "markdown",
      "source": [
        "Claramente este gráfico nos muestra que hay variación en la satisfacción de los clientes según la edad, tal como lo indicaba la hipótesis. Cuando viajan niños y jóvenes, y para pasajeros de mayor edad (mayores a 60 años), la satisfacción es menor. En cambio en las edades de aproximadamente 40 a 60 años, la satisfacción positiva es mucho mayor que las respuestas en general.\n",
        "\n",
        "A diferencia de la variable anterior, sobre la edad de los pasajeros no se puede realizar una selección o campaña, pero se podría en el futuro realizar un análisis más detallado de porque la diferencia de satisfacción en esas edades en particular.   "
      ],
      "metadata": {
        "id": "visWywd3kAED"
      }
    },
    {
      "cell_type": "markdown",
      "source": [
        "#Segunda hipótesis:\n",
        "\n",
        "**Analisis de variables relacionadas con el servicio en el vuelo**\n",
        "\n",
        "¿Hay una gran diferencia en la satisfacción de los clientes si el vuelo se retrasó? ¿Hay servicios en el vuelo que afectan más que otros la respuesta final?\n",
        "\n",
        "Hipotesis: Se espera que en aquellos vuelos que la demora fue mayor, la experiencia haya sido negativa para los usuarios. Además, se espera que servicios relacionados con la comodidad en el vuelo también tengan un impacto mayor que otros servicios que son solo agregados o adicionales."
      ],
      "metadata": {
        "id": "V-MNS2nAdG9a"
      }
    },
    {
      "cell_type": "code",
      "source": [
        "# Se analizara cuanto varían las respuestas del cliente a medida que las demoras son mayores\n",
        "\n",
        "#Categorizar la demora\n",
        "travelsat_delay=travelsat.copy()\n",
        "travelsat_delay['categoria_delay'] = pd.cut(travelsat['Arrival Delay in Minutes'], bins=[-float('inf'),0, 30, 60, 90, 120, float('inf')], labels=['sin demora','1-30 min', '31-60 min', '61-90 min', '91-120 min', '>120 min'])\n",
        "\n",
        "# Se cuenta la cantidad de veces que ocurre por categoría\n",
        "contingency_table = pd.crosstab(travelsat_delay['categoria_delay'], travelsat_delay['satisfaction'])\n",
        "# Se calculan los porcentajes de la tabla de contingencia\n",
        "percentage_table = contingency_table.div(contingency_table.sum(1), axis=0) * 100\n",
        "print(contingency_table)\n",
        "print(percentage_table)\n",
        "\n",
        "# Crear el gráfico de barras\n",
        "contingency_table.plot(kind='bar', stacked=True, color=['red', 'green'])\n",
        "plt.title('Satisfacción de Clientes según la Demora en el Vuelo')\n",
        "plt.xlabel('Demora en el Vuelo')\n",
        "plt.ylabel('Número de Clientes')\n",
        "plt.legend(title='Satisfacción')\n",
        "plt.show()"
      ],
      "metadata": {
        "colab": {
          "base_uri": "https://localhost:8080/",
          "height": 816
        },
        "id": "vb3jb8oEeISi",
        "outputId": "62e6db7d-ac96-4f7f-83ea-29f5eee6bd34"
      },
      "execution_count": null,
      "outputs": [
        {
          "output_type": "stream",
          "name": "stdout",
          "text": [
            "satisfaction     neutral or dissatisfied  satisfied\n",
            "categoria_delay                                    \n",
            "sin demora                         30844      27625\n",
            "1-30 min                           18604      12169\n",
            "31-60 min                           4721       2614\n",
            "61-90 min                           1983       1091\n",
            "91-120 min                          1067        569\n",
            ">120 min                            1660        957\n",
            "satisfaction     neutral or dissatisfied  satisfied\n",
            "categoria_delay                                    \n",
            "sin demora                     52.752741  47.247259\n",
            "1-30 min                       60.455594  39.544406\n",
            "31-60 min                      64.362645  35.637355\n",
            "61-90 min                      64.508783  35.491217\n",
            "91-120 min                     65.220049  34.779951\n",
            ">120 min                       63.431410  36.568590\n"
          ]
        },
        {
          "output_type": "display_data",
          "data": {
            "text/plain": [
              "<Figure size 640x480 with 1 Axes>"
            ],
            "image/png": "[encoded data removed]"
          },
          "metadata": {}
        }
      ]
    },
    {
      "cell_type": "markdown",
      "source": [
        "Gracias a este gráfico podemos encontrar una diferencia en el porcentaje de clientes satisfechos de aquellos vuelos que no tuvieron demora, con los que tuvieron demoras, lo que parcialmente comprueba la hipótesis. Sin embargo, se esperaba mayor nivel de clientes insatisfechos en los vuelos a medida que la demora era mayor. Esto no se pudo comprobar, ya que a partir de los 30 minutos de demora, los porcentajes se mantienen muy similares, y en el gráfico no se ve una diferencia entre cada categoría, inclusive en los vuelos que tuvieron más de 2 horas de demora.\n",
        "\n",
        "Es importante destacar que la cantidad de vuelos con demora alta no es muy baja, y no es significativa para el resto del analisis de este proyecto. Incluso la mediana (0) de esta variable, que se puede ver en la descripción (describe) de la tabla, indica que más de la mitad de los vuelos no tienen demora."
      ],
      "metadata": {
        "id": "ZPjtNGHqNK60"
      }
    },
    {
      "cell_type": "markdown",
      "source": [
        "**Analisis de variables que pueden afectar la satisfacción al cliente en mayor medida que otras**\n",
        "\n",
        "Vamos a analizar cómo afecta la categoría comodidad del asiento a la satisfacción del cliente. ¿Se puede ver un aumento en los clientes satisfechos a medida que se indica que la calidad del asiento es buena?\n"
      ],
      "metadata": {
        "id": "mkuRr-OylZHn"
      }
    },
    {
      "cell_type": "code",
      "source": [
        "counts = travelsat.groupby(['Seat comfort', 'satisfaction']).size().unstack()\n",
        "counts.plot(kind='bar', stacked=False)\n",
        "plt.title('Satisfacción de Clientes según la Calidad del Asiento')\n",
        "plt.xlabel('Respuesta en calidad del Asiento')\n",
        "plt.ylabel('Número de Clientes')\n",
        "plt"
      ],
      "metadata": {
        "colab": {
          "base_uri": "https://localhost:8080/",
          "height": 484
        },
        "id": "n8HQ_diQ2E3H",
        "outputId": "c55ae68a-8bf0-4db9-fbbc-a943b50f5523"
      },
      "execution_count": null,
      "outputs": [
        {
          "output_type": "execute_result",
          "data": {
            "text/plain": [
              "<module 'matplotlib.pyplot' from '/usr/local/lib/python3.10/dist-packages/matplotlib/pyplot.py'>"
            ]
          },
          "metadata": {},
          "execution_count": 17
        },
        {
          "output_type": "display_data",
          "data": {
            "text/plain": [
              "<Figure size 640x480 with 1 Axes>"
            ],
            "image/png": "[encoded data removed]"
          },
          "metadata": {}
        }
      ]
    },
    {
      "cell_type": "markdown",
      "source": [
        "Vemos que la calidad del asiento afecta en gran medida a la satisfacción del cliente.  Sin embargo, es posible que haya otra variable que tengan el mismo efecto. Haremos un gráfico similar para alimentos y bebidas durante el vuelo"
      ],
      "metadata": {
        "id": "kMHm41wpNJHO"
      }
    },
    {
      "cell_type": "code",
      "source": [
        "plt.figure(figsize=(10, 6))\n",
        "sns.countplot(x='Food and drink', hue='satisfaction', data=travelsat)\n",
        "plt.title('Satisfacción de Clientes según la Calidad de los Alimentos y Bebidas')\n",
        "plt.xlabel('Respuesta en calidad de los Alimentos y Bebidas')\n",
        "plt.ylabel('Número de Clientes')\n"
      ],
      "metadata": {
        "colab": {
          "base_uri": "https://localhost:8080/",
          "height": 582
        },
        "id": "RJTrlO19N_8V",
        "outputId": "0286cc0b-5807-4322-a440-b3ed63627b41"
      },
      "execution_count": null,
      "outputs": [
        {
          "output_type": "execute_result",
          "data": {
            "text/plain": [
              "Text(0, 0.5, 'Número de Clientes')"
            ]
          },
          "metadata": {},
          "execution_count": 18
        },
        {
          "output_type": "display_data",
          "data": {
            "text/plain": [
              "<Figure size 1000x600 with 1 Axes>"
            ],
            "image/png": "[encoded data removed]"
          },
          "metadata": {}
        }
      ]
    },
    {
      "cell_type": "markdown",
      "source": [
        "Si bien las respuestas a la calidad de los alimentos y bebidas afecta la respuesta a la satisfacción, su dependencia es mucho menos marcada que lo que sucede con la calidad de los asientos. Esto puede llevar a entender que la hipótesis es correcta, la comodidad durante el vuelo tiene un efecto más fuerte en la respuesta general que otras variables que solo son consideradas como servicios adicionales durante un vuelo.\n",
        "\n",
        "En la segunda parte del proyecto, con la elección de variables y algoritmos de predicción, podremos confirmar en una mejor manera cuáles son las áreas que pueden afectar más la satisfacción al cliente"
      ],
      "metadata": {
        "id": "1RKCwF8QPwfY"
      }
    },
    {
      "cell_type": "markdown",
      "source": [
        "# Segunda parte del proyecto"
      ],
      "metadata": {
        "id": "Wc8gmLh_2iHs"
      }
    },
    {
      "cell_type": "markdown",
      "source": [
        "**Selección de variables por relación con el proyecto**"
      ],
      "metadata": {
        "id": "b4h-nM8C2I4m"
      }
    },
    {
      "cell_type": "markdown",
      "source": [
        "Para poder realizar un buen análisis de correlación de variables(x), se seleccionarán solamente las columnas relevantes, que tienen un efecto muy grande en la satisfacción del cliente y que están muy relacionadas con servicios que depende de la empresa aerea, de los cuales podríamos hacer recomendaciones de mejora para obtener un mayor porcentaje de satisfacción al cliente."
      ],
      "metadata": {
        "id": "5RY_2S5QHvsc"
      }
    },
    {
      "cell_type": "code",
      "source": [
        "travelsat.columns"
      ],
      "metadata": {
        "colab": {
          "base_uri": "https://localhost:8080/"
        },
        "id": "TSQHZ6Do4T1k",
        "outputId": "d1d19ba3-60e3-4e69-9816-98089ef0d5f8"
      },
      "execution_count": null,
      "outputs": [
        {
          "output_type": "execute_result",
          "data": {
            "text/plain": [
              "Index(['Unnamed: 0', 'id', 'Gender', 'Customer Type', 'Age', 'Type of Travel',\n",
              "       'Class', 'Flight Distance', 'Inflight wifi service',\n",
              "       'Departure/Arrival time convenient', 'Ease of Online booking',\n",
              "       'Gate location', 'Food and drink', 'Online boarding', 'Seat comfort',\n",
              "       'Inflight entertainment', 'On-board service', 'Leg room service',\n",
              "       'Baggage handling', 'Checkin service', 'Inflight service',\n",
              "       'Cleanliness', 'Departure Delay in Minutes', 'Arrival Delay in Minutes',\n",
              "       'satisfaction'],\n",
              "      dtype='object')"
            ]
          },
          "metadata": {},
          "execution_count": 19
        }
      ]
    },
    {
      "cell_type": "code",
      "source": [
        "#Se quitan las columnas que no aportan información\n",
        "travelsat=travelsat.drop(columns=['Unnamed: 0','id'])\n",
        "\n",
        "#Se mantienen las columnas relevantes o relacionadas con servicios que pueden ser mejorados\n",
        "travelsat_filtrado = travelsat[['Customer Type','Inflight wifi service','Ease of Online booking','Food and drink','Online boarding','Seat comfort','Inflight entertainment','On-board service','Leg room service','Baggage handling','Checkin service','Inflight service','Cleanliness','satisfaction']]\n",
        "#Las columnas Gender, Age, Type of Travel, Class y las relacionadas con demoras no serán incluidas en esta parte del análisis."
      ],
      "metadata": {
        "id": "LtBgdTSp7sKv"
      },
      "execution_count": null,
      "outputs": []
    },
    {
      "cell_type": "markdown",
      "source": [
        "**Transformación de variables**\n",
        "\n",
        "Queremos codificar las variables no numéricas, para poder analizar correlación y efecto sobre nuestra variable dependiente Y (Satisfacción)."
      ],
      "metadata": {
        "id": "6wnzWAnxlb_3"
      }
    },
    {
      "cell_type": "code",
      "source": [
        "# Convertimos la variable de Satisfacción\n",
        "#\"neutral or dissatisfied\" = 0\n",
        "#\"satisfied\" = 1\n",
        "\n",
        "travelsat_filtrado[\"satisfaction\"] = travelsat[\"satisfaction\"].replace({\"neutral or dissatisfied\": 0, \"satisfied\":1})\n",
        "\n",
        "# Convertimos la variable Customer Type\n",
        "#\"disloyal Customer\" = 0\n",
        "#\"Loyal Customer\" = 1\n",
        "travelsat_filtrado[\"Customer Type\"] = travelsat[\"Customer Type\"].replace({\"disloyal Customer\": 0, \"Loyal Customer\":1})"
      ],
      "metadata": {
        "colab": {
          "base_uri": "https://localhost:8080/"
        },
        "id": "6TV9aPK4HlY8",
        "outputId": "8833e21d-e553-468f-d207-506ccae32bff"
      },
      "execution_count": null,
      "outputs": [
        {
          "output_type": "stream",
          "name": "stderr",
          "text": [
            "<ipython-input-21-5935f7f4a7bb>:5: FutureWarning: Downcasting behavior in `replace` is deprecated and will be removed in a future version. To retain the old behavior, explicitly call `result.infer_objects(copy=False)`. To opt-in to the future behavior, set `pd.set_option('future.no_silent_downcasting', True)`\n",
            "  travelsat_filtrado[\"satisfaction\"] = travelsat[\"satisfaction\"].replace({\"neutral or dissatisfied\": 0, \"satisfied\":1})\n",
            "<ipython-input-21-5935f7f4a7bb>:5: SettingWithCopyWarning: \n",
            "A value is trying to be set on a copy of a slice from a DataFrame.\n",
            "Try using .loc[row_indexer,col_indexer] = value instead\n",
            "\n",
            "See the caveats in the documentation: https://pandas.pydata.org/pandas-docs/stable/user_guide/indexing.html#returning-a-view-versus-a-copy\n",
            "  travelsat_filtrado[\"satisfaction\"] = travelsat[\"satisfaction\"].replace({\"neutral or dissatisfied\": 0, \"satisfied\":1})\n",
            "<ipython-input-21-5935f7f4a7bb>:10: FutureWarning: Downcasting behavior in `replace` is deprecated and will be removed in a future version. To retain the old behavior, explicitly call `result.infer_objects(copy=False)`. To opt-in to the future behavior, set `pd.set_option('future.no_silent_downcasting', True)`\n",
            "  travelsat_filtrado[\"Customer Type\"] = travelsat[\"Customer Type\"].replace({\"disloyal Customer\": 0, \"Loyal Customer\":1})\n",
            "<ipython-input-21-5935f7f4a7bb>:10: SettingWithCopyWarning: \n",
            "A value is trying to be set on a copy of a slice from a DataFrame.\n",
            "Try using .loc[row_indexer,col_indexer] = value instead\n",
            "\n",
            "See the caveats in the documentation: https://pandas.pydata.org/pandas-docs/stable/user_guide/indexing.html#returning-a-view-versus-a-copy\n",
            "  travelsat_filtrado[\"Customer Type\"] = travelsat[\"Customer Type\"].replace({\"disloyal Customer\": 0, \"Loyal Customer\":1})\n"
          ]
        }
      ]
    },
    {
      "cell_type": "markdown",
      "source": [
        "# **Correlación de variables**"
      ],
      "metadata": {
        "id": "HRwzG-LIKB-g"
      }
    },
    {
      "cell_type": "code",
      "source": [
        "travelsat_2 = travelsat_filtrado                                                                                                [['Inflight wifi service','Ease of Online booking','Food and drink','Seat comfort','Inflight entertainment','On-board service','Leg room service','Baggage handling','Checkin service','Inflight service','Cleanliness']]\n",
        "\n",
        "correlation_matrix = travelsat_2.corr()\n",
        "sns.heatmap(correlation_matrix, annot=True, cmap='coolwarm', )\n",
        "plt.title('Matriz de Correlación')\n",
        "\n",
        "plt.show()"
      ],
      "metadata": {
        "colab": {
          "base_uri": "https://localhost:8080/",
          "height": 598
        },
        "id": "jlIK6oNpKGqM",
        "outputId": "12cbd58d-ea98-4fdd-a2d6-4979729e06e9"
      },
      "execution_count": null,
      "outputs": [
        {
          "output_type": "display_data",
          "data": {
            "text/plain": [
              "<Figure size 640x480 with 2 Axes>"
            ],
            "image/png": "[encoded data removed]"
          },
          "metadata": {}
        }
      ]
    },
    {
      "cell_type": "markdown",
      "source": [
        "Se encontró correlación (no fuerte) entre algunas de las variables, que debemos analizar para decidir cuán no incluiremos en el modelo.  Se esperaba que este tipo de correlación pueda existir, ya que los clientes pueden responder de manera similar en cuanto a su percepción del servicio en areas que tienen alguna relación entre ellas.\n",
        "\n",
        "*   La primera correlaciónes que analizaremos es la que existe entre 4 variables: Limpieza, Comidas y bebidas, Comodidad del Asiento y entretenimiento en vuelo. Para eliminar esa correlación, solo podemos dejar una de esas variables.\n",
        "\n",
        "*   Existe una correlación entre el manejo del equipaje y el servicio en el vuelo.\n",
        "\n",
        "*   Por último, hay correlación entre el servicio de wifi en el vuelo y cuan fácil fue realizar la reserva online.\n",
        "\n",
        "Es muy bueno notar que la correlación fue baja para el resto de los casos, lo que permitirá que se puedan considerar la mayoría las áreas que tienen un efecto mayor en la satisfacción (lo que se analizará a continuación), sin temor a que un tipo de relación de estas variables pueda afectar los resultados."
      ],
      "metadata": {
        "id": "jafPHh9OUQre"
      }
    },
    {
      "cell_type": "code",
      "source": [
        "#Se eliminan las variables con correlación para asegurar el buen funcionamiento del modelo\n",
        "travelsat_filtrado=travelsat_filtrado.drop(columns=['Cleanliness','Food and drink','Seat comfort','Baggage handling','Ease of Online booking'])"
      ],
      "metadata": {
        "id": "OpvIIxePq-u0"
      },
      "execution_count": null,
      "outputs": []
    },
    {
      "cell_type": "markdown",
      "source": [
        "# **Machine Learning**\n",
        "\n",
        "# Desarrollo del modelo de predicción"
      ],
      "metadata": {
        "id": "h7BckI1g8gcX"
      }
    },
    {
      "cell_type": "markdown",
      "source": [
        "# Selección de variables más influyentes en la satisfacción"
      ],
      "metadata": {
        "id": "hZuIzFfz1Y-3"
      }
    },
    {
      "cell_type": "code",
      "source": [
        "#Se divide el dataset en Train: x y Test: y\n",
        "x = travelsat_filtrado.drop('satisfaction', axis=1)\n",
        "y = travelsat_filtrado['satisfaction']"
      ],
      "metadata": {
        "id": "g8UhGj2pas83"
      },
      "execution_count": null,
      "outputs": []
    },
    {
      "cell_type": "markdown",
      "source": [
        "Se utiliza Forward selection para poder encontrar las variables independiente más importantes para la variable y - dependiente\n"
      ],
      "metadata": {
        "id": "sXl46L1w_sPJ"
      }
    },
    {
      "cell_type": "code",
      "source": [
        "#Se reduce la cantidad de datos solo para realizar el Forward selection\n",
        "x2=x.head(25000)\n",
        "y2=y.head(25000)"
      ],
      "metadata": {
        "id": "_bptqpgNWAFA"
      },
      "execution_count": null,
      "outputs": []
    },
    {
      "cell_type": "code",
      "source": [
        "# Sequential Forward Selection(sfs)\n",
        "sfs = SFS(RandomForestClassifier(n_estimators=100, n_jobs=-1),\n",
        "          k_features=5,#cantidad de variables deseadas\n",
        "          forward=True,\n",
        "          floating=False,\n",
        "          verbose=2,\n",
        "          scoring = 'accuracy',#score para ver importancia de variables\n",
        "          cv = 3)"
      ],
      "metadata": {
        "id": "-uqd8V1adDRw"
      },
      "execution_count": null,
      "outputs": []
    },
    {
      "cell_type": "code",
      "source": [
        "sfs.fit(x2, y2)\n",
        "sfs.k_feature_names_"
      ],
      "metadata": {
        "colab": {
          "base_uri": "https://localhost:8080/"
        },
        "id": "iOnh0D5ZdLjv",
        "outputId": "eac5c171-cf8a-46b5-e63b-d13c9377af6f"
      },
      "execution_count": null,
      "outputs": [
        {
          "output_type": "stream",
          "name": "stderr",
          "text": [
            "\n",
            "[2024-11-12 17:10:18] Features: 1/5 -- score: 0.7902402585184282\n",
            "[2024-11-12 17:10:29] Features: 2/5 -- score: 0.8230001626270954\n",
            "[2024-11-12 17:10:40] Features: 3/5 -- score: 0.8733600987908007\n",
            "[2024-11-12 17:10:52] Features: 4/5 -- score: 0.8880799724429581\n",
            "[2024-11-12 17:11:02] Features: 5/5 -- score: 0.8936799180630532"
          ]
        },
        {
          "output_type": "execute_result",
          "data": {
            "text/plain": [
              "('Inflight wifi service',\n",
              " 'Online boarding',\n",
              " 'Inflight entertainment',\n",
              " 'Leg room service',\n",
              " 'Inflight service')"
            ]
          },
          "metadata": {},
          "execution_count": 27
        }
      ]
    },
    {
      "cell_type": "code",
      "source": [
        "#Se obtienen las variables seleccionadas y se las pasa a una lista\n",
        "Variables_seleccionadas =list(sfs.k_feature_names_)\n",
        "print(Variables_seleccionadas)"
      ],
      "metadata": {
        "colab": {
          "base_uri": "https://localhost:8080/"
        },
        "id": "ik0ViqQZmVkT",
        "outputId": "bfe7bb05-1214-4b9a-dedc-bd71c28c135e"
      },
      "execution_count": null,
      "outputs": [
        {
          "output_type": "stream",
          "name": "stdout",
          "text": [
            "['Inflight wifi service', 'Online boarding', 'Inflight entertainment', 'Leg room service', 'Inflight service']\n"
          ]
        }
      ]
    },
    {
      "cell_type": "markdown",
      "source": [
        "**Se identifican las variables Inflight wifi service, Online boarding, Inflight entertainment y Leg room service como las variables más influyentes para la respuesta de satisfacción de los clientes**"
      ],
      "metadata": {
        "id": "UyQROyz3KYaC"
      }
    },
    {
      "cell_type": "code",
      "source": [
        "#Para realizar el algoritmo, solo se dejan estas variables seleccionadas como las más importantes para el modelo\n",
        "X = travelsat_filtrado[Variables_seleccionadas]\n",
        "X.head()"
      ],
      "metadata": {
        "colab": {
          "base_uri": "https://localhost:8080/",
          "height": 206
        },
        "id": "aInuVfRze6bP",
        "outputId": "830d870c-433e-42de-d5da-7ee5087a8039"
      },
      "execution_count": null,
      "outputs": [
        {
          "output_type": "execute_result",
          "data": {
            "text/plain": [
              "   Inflight wifi service  Online boarding  Inflight entertainment  \\\n",
              "0                      3                3                       5   \n",
              "1                      3                3                       1   \n",
              "2                      2                5                       5   \n",
              "3                      2                2                       2   \n",
              "4                      3                5                       3   \n",
              "\n",
              "   Leg room service  Inflight service  \n",
              "0                 3                 5  \n",
              "1                 5                 4  \n",
              "2                 3                 4  \n",
              "3                 5                 4  \n",
              "4                 4                 3  "
            ],
            "text/html": [
              "\n",
              "  <div id=\"df-3a30528d-3a7a-421d-94a8-77adb4b56391\" class=\"colab-df-container\">\n",
              "    <div>\n",
              "<style scoped>\n",
              "    .dataframe tbody tr th:only-of-type {\n",
              "        vertical-align: middle;\n",
              "    }\n",
              "\n",
              "    .dataframe tbody tr th {\n",
              "        vertical-align: top;\n",
              "    }\n",
              "\n",
              "    .dataframe thead th {\n",
              "        text-align: right;\n",
              "    }\n",
              "</style>\n",
              "<table border=\"1\" class=\"dataframe\">\n",
              "  <thead>\n",
              "    <tr style=\"text-align: right;\">\n",
              "      <th></th>\n",
              "      <th>Inflight wifi service</th>\n",
              "      <th>Online boarding</th>\n",
              "      <th>Inflight entertainment</th>\n",
              "      <th>Leg room service</th>\n",
              "      <th>Inflight service</th>\n",
              "    </tr>\n",
              "  </thead>\n",
              "  <tbody>\n",
              "    <tr>\n",
              "      <th>0</th>\n",
              "      <td>3</td>\n",
              "      <td>3</td>\n",
              "      <td>5</td>\n",
              "      <td>3</td>\n",
              "      <td>5</td>\n",
              "    </tr>\n",
              "    <tr>\n",
              "      <th>1</th>\n",
              "      <td>3</td>\n",
              "      <td>3</td>\n",
              "      <td>1</td>\n",
              "      <td>5</td>\n",
              "      <td>4</td>\n",
              "    </tr>\n",
              "    <tr>\n",
              "      <th>2</th>\n",
              "      <td>2</td>\n",
              "      <td>5</td>\n",
              "      <td>5</td>\n",
              "      <td>3</td>\n",
              "      <td>4</td>\n",
              "    </tr>\n",
              "    <tr>\n",
              "      <th>3</th>\n",
              "      <td>2</td>\n",
              "      <td>2</td>\n",
              "      <td>2</td>\n",
              "      <td>5</td>\n",
              "      <td>4</td>\n",
              "    </tr>\n",
              "    <tr>\n",
              "      <th>4</th>\n",
              "      <td>3</td>\n",
              "      <td>5</td>\n",
              "      <td>3</td>\n",
              "      <td>4</td>\n",
              "      <td>3</td>\n",
              "    </tr>\n",
              "  </tbody>\n",
              "</table>\n",
              "</div>\n",
              "    <div class=\"colab-df-buttons\">\n",
              "\n",
              "  <div class=\"colab-df-container\">\n",
              "    <button class=\"colab-df-convert\" onclick=\"convertToInteractive('df-3a30528d-3a7a-421d-94a8-77adb4b56391')\"\n",
              "            title=\"Convert this dataframe to an interactive table.\"\n",
              "            style=\"display:none;\">\n",
              "\n",
              "  <svg xmlns=\"http://www.w3.org/2000/svg\" height=\"24px\" viewBox=\"0 -960 960 960\">\n",
              "    <path d=\"M120-120v-720h720v720H120Zm60-500h600v-160H180v160Zm220 220h160v-160H400v160Zm0 220h160v-160H400v160ZM180-400h160v-160H180v160Zm440 0h160v-160H620v160ZM180-180h160v-160H180v160Zm440 0h160v-160H620v160Z\"/>\n",
              "  </svg>\n",
              "    </button>\n",
              "\n",
              "  <style>\n",
              "    .colab-df-container {\n",
              "      display:flex;\n",
              "      gap: 12px;\n",
              "    }\n",
              "\n",
              "    .colab-df-convert {\n",
              "      background-color: #E8F0FE;\n",
              "      border: none;\n",
              "      border-radius: 50%;\n",
              "      cursor: pointer;\n",
              "      display: none;\n",
              "      fill: #1967D2;\n",
              "      height: 32px;\n",
              "      padding: 0 0 0 0;\n",
              "      width: 32px;\n",
              "    }\n",
              "\n",
              "    .colab-df-convert:hover {\n",
              "      background-color: #E2EBFA;\n",
              "      box-shadow: 0px 1px 2px rgba(60, 64, 67, 0.3), 0px 1px 3px 1px rgba(60, 64, 67, 0.15);\n",
              "      fill: #174EA6;\n",
              "    }\n",
              "\n",
              "    .colab-df-buttons div {\n",
              "      margin-bottom: 4px;\n",
              "    }\n",
              "\n",
              "    [theme=dark] .colab-df-convert {\n",
              "      background-color: #3B4455;\n",
              "      fill: #D2E3FC;\n",
              "    }\n",
              "\n",
              "    [theme=dark] .colab-df-convert:hover {\n",
              "      background-color: #434B5C;\n",
              "      box-shadow: 0px 1px 3px 1px rgba(0, 0, 0, 0.15);\n",
              "      filter: drop-shadow(0px 1px 2px rgba(0, 0, 0, 0.3));\n",
              "      fill: #FFFFFF;\n",
              "    }\n",
              "  </style>\n",
              "\n",
              "    <script>\n",
              "      const buttonEl =\n",
              "        document.querySelector('#df-3a30528d-3a7a-421d-94a8-77adb4b56391 button.colab-df-convert');\n",
              "      buttonEl.style.display =\n",
              "        google.colab.kernel.accessAllowed ? 'block' : 'none';\n",
              "\n",
              "      async function convertToInteractive(key) {\n",
              "        const element = document.querySelector('#df-3a30528d-3a7a-421d-94a8-77adb4b56391');\n",
              "        const dataTable =\n",
              "          await google.colab.kernel.invokeFunction('convertToInteractive',\n",
              "                                                    [key], {});\n",
              "        if (!dataTable) return;\n",
              "\n",
              "        const docLinkHtml = 'Like what you see? Visit the ' +\n",
              "          '<a target=\"_blank\" href=https://colab.research.google.com/notebooks/data_table.ipynb>data table notebook</a>'\n",
              "          + ' to learn more about interactive tables.';\n",
              "        element.innerHTML = '';\n",
              "        dataTable['output_type'] = 'display_data';\n",
              "        await google.colab.output.renderOutput(dataTable, element);\n",
              "        const docLink = document.createElement('div');\n",
              "        docLink.innerHTML = docLinkHtml;\n",
              "        element.appendChild(docLink);\n",
              "      }\n",
              "    </script>\n",
              "  </div>\n",
              "\n",
              "\n",
              "<div id=\"df-b7217882-cb50-47dd-b170-70fe92cb0fd2\">\n",
              "  <button class=\"colab-df-quickchart\" onclick=\"quickchart('df-b7217882-cb50-47dd-b170-70fe92cb0fd2')\"\n",
              "            title=\"Suggest charts\"\n",
              "            style=\"display:none;\">\n",
              "\n",
              "<svg xmlns=\"http://www.w3.org/2000/svg\" height=\"24px\"viewBox=\"0 0 24 24\"\n",
              "     width=\"24px\">\n",
              "    <g>\n",
              "        <path d=\"M19 3H5c-1.1 0-2 .9-2 2v14c0 1.1.9 2 2 2h14c1.1 0 2-.9 2-2V5c0-1.1-.9-2-2-2zM9 17H7v-7h2v7zm4 0h-2V7h2v10zm4 0h-2v-4h2v4z\"/>\n",
              "    </g>\n",
              "</svg>\n",
              "  </button>\n",
              "\n",
              "<style>\n",
              "  .colab-df-quickchart {\n",
              "      --bg-color: #E8F0FE;\n",
              "      --fill-color: #1967D2;\n",
              "      --hover-bg-color: #E2EBFA;\n",
              "      --hover-fill-color: #174EA6;\n",
              "      --disabled-fill-color: #AAA;\n",
              "      --disabled-bg-color: #DDD;\n",
              "  }\n",
              "\n",
              "  [theme=dark] .colab-df-quickchart {\n",
              "      --bg-color: #3B4455;\n",
              "      --fill-color: #D2E3FC;\n",
              "      --hover-bg-color: #434B5C;\n",
              "      --hover-fill-color: #FFFFFF;\n",
              "      --disabled-bg-color: #3B4455;\n",
              "      --disabled-fill-color: #666;\n",
              "  }\n",
              "\n",
              "  .colab-df-quickchart {\n",
              "    background-color: var(--bg-color);\n",
              "    border: none;\n",
              "    border-radius: 50%;\n",
              "    cursor: pointer;\n",
              "    display: none;\n",
              "    fill: var(--fill-color);\n",
              "    height: 32px;\n",
              "    padding: 0;\n",
              "    width: 32px;\n",
              "  }\n",
              "\n",
              "  .colab-df-quickchart:hover {\n",
              "    background-color: var(--hover-bg-color);\n",
              "    box-shadow: 0 1px 2px rgba(60, 64, 67, 0.3), 0 1px 3px 1px rgba(60, 64, 67, 0.15);\n",
              "    fill: var(--button-hover-fill-color);\n",
              "  }\n",
              "\n",
              "  .colab-df-quickchart-complete:disabled,\n",
              "  .colab-df-quickchart-complete:disabled:hover {\n",
              "    background-color: var(--disabled-bg-color);\n",
              "    fill: var(--disabled-fill-color);\n",
              "    box-shadow: none;\n",
              "  }\n",
              "\n",
              "  .colab-df-spinner {\n",
              "    border: 2px solid var(--fill-color);\n",
              "    border-color: transparent;\n",
              "    border-bottom-color: var(--fill-color);\n",
              "    animation:\n",
              "      spin 1s steps(1) infinite;\n",
              "  }\n",
              "\n",
              "  @keyframes spin {\n",
              "    0% {\n",
              "      border-color: transparent;\n",
              "      border-bottom-color: var(--fill-color);\n",
              "      border-left-color: var(--fill-color);\n",
              "    }\n",
              "    20% {\n",
              "      border-color: transparent;\n",
              "      border-left-color: var(--fill-color);\n",
              "      border-top-color: var(--fill-color);\n",
              "    }\n",
              "    30% {\n",
              "      border-color: transparent;\n",
              "      border-left-color: var(--fill-color);\n",
              "      border-top-color: var(--fill-color);\n",
              "      border-right-color: var(--fill-color);\n",
              "    }\n",
              "    40% {\n",
              "      border-color: transparent;\n",
              "      border-right-color: var(--fill-color);\n",
              "      border-top-color: var(--fill-color);\n",
              "    }\n",
              "    60% {\n",
              "      border-color: transparent;\n",
              "      border-right-color: var(--fill-color);\n",
              "    }\n",
              "    80% {\n",
              "      border-color: transparent;\n",
              "      border-right-color: var(--fill-color);\n",
              "      border-bottom-color: var(--fill-color);\n",
              "    }\n",
              "    90% {\n",
              "      border-color: transparent;\n",
              "      border-bottom-color: var(--fill-color);\n",
              "    }\n",
              "  }\n",
              "</style>\n",
              "\n",
              "  <script>\n",
              "    async function quickchart(key) {\n",
              "      const quickchartButtonEl =\n",
              "        document.querySelector('#' + key + ' button');\n",
              "      quickchartButtonEl.disabled = true;  // To prevent multiple clicks.\n",
              "      quickchartButtonEl.classList.add('colab-df-spinner');\n",
              "      try {\n",
              "        const charts = await google.colab.kernel.invokeFunction(\n",
              "            'suggestCharts', [key], {});\n",
              "      } catch (error) {\n",
              "        console.error('Error during call to suggestCharts:', error);\n",
              "      }\n",
              "      quickchartButtonEl.classList.remove('colab-df-spinner');\n",
              "      quickchartButtonEl.classList.add('colab-df-quickchart-complete');\n",
              "    }\n",
              "    (() => {\n",
              "      let quickchartButtonEl =\n",
              "        document.querySelector('#df-b7217882-cb50-47dd-b170-70fe92cb0fd2 button');\n",
              "      quickchartButtonEl.style.display =\n",
              "        google.colab.kernel.accessAllowed ? 'block' : 'none';\n",
              "    })();\n",
              "  </script>\n",
              "</div>\n",
              "\n",
              "    </div>\n",
              "  </div>\n"
            ],
            "application/vnd.google.colaboratory.intrinsic+json": {
              "type": "dataframe",
              "variable_name": "X"
            }
          },
          "metadata": {},
          "execution_count": 29
        }
      ]
    },
    {
      "cell_type": "markdown",
      "source": [
        "Se debe realizara un algoritmo de clasificación, debido a tener una variable objeto con dos opciones (Satisfecho o no)."
      ],
      "metadata": {
        "id": "HMJa22tqHyff"
      }
    },
    {
      "cell_type": "markdown",
      "source": [
        "**Se elige un algoritmo de arbol de decisión como el más adecuado para este modelo**"
      ],
      "metadata": {
        "id": "pLM5363kH-UF"
      }
    },
    {
      "cell_type": "code",
      "source": [
        "#Se dividen los datos en train y test\n",
        "X_train, X_test, y_train, y_test = train_test_split(\n",
        "    X, y, test_size=0.3, random_state=42)"
      ],
      "metadata": {
        "id": "2o7P18G5pzUA"
      },
      "execution_count": null,
      "outputs": []
    },
    {
      "cell_type": "code",
      "source": [
        "X_train.shape"
      ],
      "metadata": {
        "colab": {
          "base_uri": "https://localhost:8080/"
        },
        "id": "AjuMV885nctd",
        "outputId": "85a2f5c8-e43b-43f2-a97d-c08ad84cf345"
      },
      "execution_count": null,
      "outputs": [
        {
          "output_type": "execute_result",
          "data": {
            "text/plain": [
              "(72732, 5)"
            ]
          },
          "metadata": {},
          "execution_count": 31
        }
      ]
    },
    {
      "cell_type": "code",
      "source": [
        "X_test.shape"
      ],
      "metadata": {
        "colab": {
          "base_uri": "https://localhost:8080/"
        },
        "id": "fAyBmMjxnqJ9",
        "outputId": "20df5d04-8c2a-4af0-8b45-eae277cd9644"
      },
      "execution_count": null,
      "outputs": [
        {
          "output_type": "execute_result",
          "data": {
            "text/plain": [
              "(31172, 5)"
            ]
          },
          "metadata": {},
          "execution_count": 32
        }
      ]
    },
    {
      "cell_type": "code",
      "source": [
        "#Traer el algoritmo\n",
        "# ajustar arbol de decisión simple con hiperparametros (defecto)\n",
        "clf = DecisionTreeClassifier(random_state=42)\n",
        "\n",
        "model = clf.fit(X_train, y_train)\n",
        "#entrenando los datos\n",
        "y_predicho=clf.predict(X_test)\n",
        "y_predicho\n"
      ],
      "metadata": {
        "colab": {
          "base_uri": "https://localhost:8080/"
        },
        "id": "FTzn6zG7oIKl",
        "outputId": "df1aadad-a6ac-4315-a65e-ac528f3ce780"
      },
      "execution_count": null,
      "outputs": [
        {
          "output_type": "execute_result",
          "data": {
            "text/plain": [
              "array([0, 0, 0, ..., 0, 1, 1])"
            ]
          },
          "metadata": {},
          "execution_count": 33
        }
      ]
    },
    {
      "cell_type": "code",
      "source": [
        "y_test\n"
      ],
      "metadata": {
        "colab": {
          "base_uri": "https://localhost:8080/",
          "height": 458
        },
        "id": "-n0DD6MSpodd",
        "outputId": "74329f16-4734-44ea-8ce0-f06bfe42c3b6"
      },
      "execution_count": null,
      "outputs": [
        {
          "output_type": "execute_result",
          "data": {
            "text/plain": [
              "80638    0\n",
              "43398    0\n",
              "32751    0\n",
              "33571    0\n",
              "71287    0\n",
              "        ..\n",
              "5007     1\n",
              "4869     1\n",
              "93969    0\n",
              "78320    1\n",
              "24931    1\n",
              "Name: satisfaction, Length: 31172, dtype: int64"
            ],
            "text/html": [
              "<div>\n",
              "<style scoped>\n",
              "    .dataframe tbody tr th:only-of-type {\n",
              "        vertical-align: middle;\n",
              "    }\n",
              "\n",
              "    .dataframe tbody tr th {\n",
              "        vertical-align: top;\n",
              "    }\n",
              "\n",
              "    .dataframe thead th {\n",
              "        text-align: right;\n",
              "    }\n",
              "</style>\n",
              "<table border=\"1\" class=\"dataframe\">\n",
              "  <thead>\n",
              "    <tr style=\"text-align: right;\">\n",
              "      <th></th>\n",
              "      <th>satisfaction</th>\n",
              "    </tr>\n",
              "  </thead>\n",
              "  <tbody>\n",
              "    <tr>\n",
              "      <th>80638</th>\n",
              "      <td>0</td>\n",
              "    </tr>\n",
              "    <tr>\n",
              "      <th>43398</th>\n",
              "      <td>0</td>\n",
              "    </tr>\n",
              "    <tr>\n",
              "      <th>32751</th>\n",
              "      <td>0</td>\n",
              "    </tr>\n",
              "    <tr>\n",
              "      <th>33571</th>\n",
              "      <td>0</td>\n",
              "    </tr>\n",
              "    <tr>\n",
              "      <th>71287</th>\n",
              "      <td>0</td>\n",
              "    </tr>\n",
              "    <tr>\n",
              "      <th>...</th>\n",
              "      <td>...</td>\n",
              "    </tr>\n",
              "    <tr>\n",
              "      <th>5007</th>\n",
              "      <td>1</td>\n",
              "    </tr>\n",
              "    <tr>\n",
              "      <th>4869</th>\n",
              "      <td>1</td>\n",
              "    </tr>\n",
              "    <tr>\n",
              "      <th>93969</th>\n",
              "      <td>0</td>\n",
              "    </tr>\n",
              "    <tr>\n",
              "      <th>78320</th>\n",
              "      <td>1</td>\n",
              "    </tr>\n",
              "    <tr>\n",
              "      <th>24931</th>\n",
              "      <td>1</td>\n",
              "    </tr>\n",
              "  </tbody>\n",
              "</table>\n",
              "<p>31172 rows × 1 columns</p>\n",
              "</div><br><label><b>dtype:</b> int64</label>"
            ]
          },
          "metadata": {},
          "execution_count": 34
        }
      ]
    },
    {
      "cell_type": "markdown",
      "source": [
        "# Cálculo de métricas - validación del modelo"
      ],
      "metadata": {
        "id": "JDKuc6NaLAbk"
      }
    },
    {
      "cell_type": "code",
      "source": [
        "accuracy_score(y_test, y_predicho)"
      ],
      "metadata": {
        "colab": {
          "base_uri": "https://localhost:8080/"
        },
        "id": "z8_srv9WqHLn",
        "outputId": "cd73546b-8234-4e58-dc53-cc0ac7038515"
      },
      "execution_count": null,
      "outputs": [
        {
          "output_type": "execute_result",
          "data": {
            "text/plain": [
              "0.899846015655075"
            ]
          },
          "metadata": {},
          "execution_count": 35
        }
      ]
    },
    {
      "cell_type": "markdown",
      "source": [
        "**Se obtiene un muy buen nivel de predicción, mayor al 0.89, tomando en cuenta el nivel de acierto, sin diferenciar si fueron positivos o negativos.**"
      ],
      "metadata": {
        "id": "fm5kWC2QLJT4"
      }
    },
    {
      "cell_type": "code",
      "source": [
        "plt.figure(figsize=(10, 6))\n",
        "cm = ConfusionMatrixDisplay.from_estimator(model, X_test, y_test, display_labels=['Negative', 'Positive'], cmap='Greens')\n",
        "plt.show()"
      ],
      "metadata": {
        "colab": {
          "base_uri": "https://localhost:8080/",
          "height": 467
        },
        "id": "1Wad-LItAgR_",
        "outputId": "f7e04844-dd0f-4ead-9d81-b1ea9b7b771e"
      },
      "execution_count": null,
      "outputs": [
        {
          "output_type": "display_data",
          "data": {
            "text/plain": [
              "<Figure size 1000x600 with 0 Axes>"
            ]
          },
          "metadata": {}
        },
        {
          "output_type": "display_data",
          "data": {
            "text/plain": [
              "<Figure size 640x480 with 2 Axes>"
            ],
            "image/png": "[encoded data removed]"
          },
          "metadata": {}
        }
      ]
    },
    {
      "cell_type": "markdown",
      "source": [
        "La matriz de confusión nos indica que tenemos muy buenos valores de acierto tanto en positivos reales como en negativos reales.\n",
        "\n",
        "Verdaderos positivos:11850 - Verdaderos negativos: 15987 - Falsos positivos: 1568 - Falsos negativos: 1767\n",
        "\n",
        "Veremos los porcentajes exactos tanto en la precisión como en la sensibilidad, y por último en el reporte de clasificación:"
      ],
      "metadata": {
        "id": "2Ukrqwiaogp9"
      }
    },
    {
      "cell_type": "code",
      "source": [
        "precision_positiva = precision_score(y_test, y_predicho, pos_label=1)\n",
        "precision_negativa = precision_score(y_test, y_predicho, pos_label=0)\n",
        "precision_positiva, precision_negativa"
      ],
      "metadata": {
        "colab": {
          "base_uri": "https://localhost:8080/"
        },
        "id": "ocKE4LKzYCV2",
        "outputId": "822f29ec-7191-4a45-c435-4c0cec2af5d3"
      },
      "execution_count": null,
      "outputs": [
        {
          "output_type": "execute_result",
          "data": {
            "text/plain": [
              "(0.8971467494134564, 0.9018319505540398)"
            ]
          },
          "metadata": {},
          "execution_count": 45
        }
      ]
    },
    {
      "cell_type": "code",
      "source": [
        "recall_sensibilidad = recall_score(y_test, y_predicho, pos_label=1)\n",
        "recall_especificidad= recall_score(y_test, y_predicho, pos_label=0)\n",
        "recall_sensibilidad, recall_especificidad"
      ],
      "metadata": {
        "colab": {
          "base_uri": "https://localhost:8080/"
        },
        "id": "4itxc48uZKqR",
        "outputId": "fe723f3e-310e-4547-ebed-7917fb4865f0"
      },
      "execution_count": null,
      "outputs": [
        {
          "output_type": "execute_result",
          "data": {
            "text/plain": [
              "(0.8705294852023207, 0.9225861577898035)"
            ]
          },
          "metadata": {},
          "execution_count": 47
        }
      ]
    },
    {
      "cell_type": "code",
      "source": [
        "f1_positivo = f1_score(y_test, y_predicho, pos_label=1)\n",
        "f1_negativo = f1_score(y_test, y_predicho, pos_label=0)\n",
        "f1_positivo, f1_negativo"
      ],
      "metadata": {
        "colab": {
          "base_uri": "https://localhost:8080/"
        },
        "id": "NPLKc1-aZceN",
        "outputId": "adcad90a-d756-41f2-df3a-f0b97a03d816"
      },
      "execution_count": null,
      "outputs": [
        {
          "output_type": "execute_result",
          "data": {
            "text/plain": [
              "(0.8836377189713008, 0.9120910063636876)"
            ]
          },
          "metadata": {},
          "execution_count": 48
        }
      ]
    },
    {
      "cell_type": "code",
      "source": [
        "print(\"Classification Report:\\n\", classification_report(y_test, y_predicho))\n"
      ],
      "metadata": {
        "colab": {
          "base_uri": "https://localhost:8080/"
        },
        "id": "rK2cixTou0ox",
        "outputId": "d063a6b5-9132-4b82-9836-dd7ebc2f42f3"
      },
      "execution_count": null,
      "outputs": [
        {
          "output_type": "stream",
          "name": "stdout",
          "text": [
            "Classification Report:\n",
            "               precision    recall  f1-score   support\n",
            "\n",
            "           0       0.90      0.92      0.91     17555\n",
            "           1       0.90      0.87      0.88     13617\n",
            "\n",
            "    accuracy                           0.90     31172\n",
            "   macro avg       0.90      0.90      0.90     31172\n",
            "weighted avg       0.90      0.90      0.90     31172\n",
            "\n"
          ]
        }
      ]
    },
    {
      "cell_type": "markdown",
      "source": [],
      "metadata": {
        "id": "vI_p52eIsJ1N"
      }
    },
    {
      "cell_type": "markdown",
      "source": [
        " Hemos obtenido una muy buen predicción tanto en Precisión como en Sensibilidad (Recall). Tenemos un bajo porcentaje de falsos positivos y falsos negativos. Hay una pequeña diferencia que permite indicar que el modelo es mejor para encontrar los negativos (neutral o no satisfecho en este caso). Sin embargo, el algoritmo ha obtenido excelentes resultados, permitiendo confirmar que estas 4 variables tienen un gran efecto en el modelo.\n",
        "\n"
      ],
      "metadata": {
        "id": "y3IAyUwDqwRT"
      }
    },
    {
      "cell_type": "markdown",
      "source": [
        "# **Conclusiones**\n",
        "\n",
        "\n",
        "*   Se pudo realizar un modelo predictivo que permite confirmar cuánto afectan a la satisfacción las 4 variables más importantes relacionadas con el servicio de la empresa.\n",
        "\n",
        "# Analisis de variables no directamente relacionadas con el servicio:\n",
        "*   Las variables no relacionadas con el servicio tienen una influencia muy grande en la satisfacción del cliente.\n",
        "*   Se podría hacer análisis adicionales con valores específicos para conocer su influencia, por ejemplo, análisis solo con pasajeros de edad menores o mayores, para intentar entender el motivo de que sus respuestas sean mayormente negativas.\n",
        "*   De las variables no relacionadas con el servicio, una de las más influyentes es el tipo de cliente, si son clientes loyal o no. Los clientes loyal tienen mayores respuestas positivas sobre la satisfacción. Es una variable en la cual la empresa puede realizar una inversión o un intento de mejora.  **Se recomienda realizar campañas para que mayor cantidad de clientes que toman los vuelos puedan ser loyal.**\n",
        "\n",
        "# Analisis de variables directamente relacionadas con el servicio:\n",
        "*   Los vuelos sin demora tienen una mejor respuesta de satisfacción que aquellos que si tuvieron algunos minutos de demora. Sin embargo, el tiempo demora en los vuelos no afecta en tan gran medida la satisfacción del cliente, y en muchos casos se produce por problemas ajenos a la empresa. **La recomendación para la empresa es seguir comprometida a que, siempre que sea posible, los vuelos lleguen en tiempo.**\n",
        "*   Las variables que más influyen en la satisfacción al cliente son variables relacionadas con la comodidad y la experiencia en el vuelo. Gracias al modelo desarrollado pudimos comprobar que las cuatro variables más importantes son:  Servicio de wifi en el vuelo, proceso de boarding online, entretenimientos en vuelo y el espacio para las piernas durante el vuelo.  \n",
        "\n",
        "**Se recomienda a la empresa poder trabajar y realizar inversiones en estas áreas, particularmente las que tienen que ver con comodidad y atención del pasajero durante el vuelo. El espacio para la piernas, o incluso la comodidad del asiento afectan la satisfacción del cliente. También áreas como entretenimiento a bordo, y wifi en el vuelo pueden mejorar mucho los resultados de la encuenta. Por último, realizar que el proceso de boarding online sea más eficiente, y ayude a los pasajeros a abordar el vuelo de manera más rápida también tiene un efecto positivo en los resultados de la encuesta.**"
      ],
      "metadata": {
        "id": "IjglP-pyYrsF"
      }
    },
    {
      "cell_type": "code",
      "source": [],
      "metadata": {
        "id": "P4p4wTMzoxWm"
      },
      "execution_count": null,
      "outputs": []
    }
  ]
}